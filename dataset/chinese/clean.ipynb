{
 "cells": [
  {
   "cell_type": "code",
   "execution_count": 2,
   "metadata": {},
   "outputs": [],
   "source": [
    "filename = \"./111_chinese.csv\""
   ]
  },
  {
   "cell_type": "code",
   "execution_count": 6,
   "metadata": {},
   "outputs": [
    {
     "data": {
      "text/html": [
       "<div>\n",
       "<style scoped>\n",
       "    .dataframe tbody tr th:only-of-type {\n",
       "        vertical-align: middle;\n",
       "    }\n",
       "\n",
       "    .dataframe tbody tr th {\n",
       "        vertical-align: top;\n",
       "    }\n",
       "\n",
       "    .dataframe thead th {\n",
       "        text-align: right;\n",
       "    }\n",
       "</style>\n",
       "<table border=\"1\" class=\"dataframe\">\n",
       "  <thead>\n",
       "    <tr style=\"text-align: right;\">\n",
       "      <th></th>\n",
       "      <th>info</th>\n",
       "      <th>answer</th>\n",
       "      <th>explanation</th>\n",
       "      <th>question</th>\n",
       "    </tr>\n",
       "  </thead>\n",
       "  <tbody>\n",
       "    <tr>\n",
       "      <th>0</th>\n",
       "      <td>111年學測-國文科第1題</td>\n",
       "      <td>A</td>\n",
       "      <td>NaN</td>\n",
       "      <td>下列「」內的字，讀音前後相同的是：\\n(A)既瘖且「痺」／彈箏搏「髀」 (B)不「忮」不求／...</td>\n",
       "    </tr>\n",
       "    <tr>\n",
       "      <th>1</th>\n",
       "      <td>111年學測-國文科第2題</td>\n",
       "      <td>B</td>\n",
       "      <td>NaN</td>\n",
       "      <td>下列文句，完全沒有錯別字的是：\\n(A)觀音山，故名思義是因遠眺貌似觀音躺臥而得名\\n(B)...</td>\n",
       "    </tr>\n",
       "    <tr>\n",
       "      <th>2</th>\n",
       "      <td>111年學測-國文科第3題</td>\n",
       "      <td>A</td>\n",
       "      <td>NaN</td>\n",
       "      <td>下列文句畫底線處的詞語，運用不適當的是：\\n(A)世事變化無常，有如白駒過隙，總讓人感觸良多...</td>\n",
       "    </tr>\n",
       "    <tr>\n",
       "      <th>3</th>\n",
       "      <td>111年學測-國文科第4題</td>\n",
       "      <td>C</td>\n",
       "      <td>NaN</td>\n",
       "      <td>依據下列框內資訊，關於斯卡羅族的敘述，最適當的是：斯卡羅族居住於海拔三百公尺以下，在清代已接...</td>\n",
       "    </tr>\n",
       "    <tr>\n",
       "      <th>4</th>\n",
       "      <td>111年學測-國文科第5題</td>\n",
       "      <td>A</td>\n",
       "      <td>NaN</td>\n",
       "      <td>依據下文，關於文中所論不求甚解的讀書態度，敘述最適當的是：\\n讀書不求甚解的態度之一，是服膺...</td>\n",
       "    </tr>\n",
       "  </tbody>\n",
       "</table>\n",
       "</div>"
      ],
      "text/plain": [
       "            info answer  explanation  \\\n",
       "0  111年學測-國文科第1題      A          NaN   \n",
       "1  111年學測-國文科第2題      B          NaN   \n",
       "2  111年學測-國文科第3題      A          NaN   \n",
       "3  111年學測-國文科第4題      C          NaN   \n",
       "4  111年學測-國文科第5題      A          NaN   \n",
       "\n",
       "                                            question  \n",
       "0  下列「」內的字，讀音前後相同的是：\\n(A)既瘖且「痺」／彈箏搏「髀」 (B)不「忮」不求／...  \n",
       "1  下列文句，完全沒有錯別字的是：\\n(A)觀音山，故名思義是因遠眺貌似觀音躺臥而得名\\n(B)...  \n",
       "2  下列文句畫底線處的詞語，運用不適當的是：\\n(A)世事變化無常，有如白駒過隙，總讓人感觸良多...  \n",
       "3  依據下列框內資訊，關於斯卡羅族的敘述，最適當的是：斯卡羅族居住於海拔三百公尺以下，在清代已接...  \n",
       "4  依據下文，關於文中所論不求甚解的讀書態度，敘述最適當的是：\\n讀書不求甚解的態度之一，是服膺...  "
      ]
     },
     "execution_count": 6,
     "metadata": {},
     "output_type": "execute_result"
    }
   ],
   "source": [
    "import pandas as pd\n",
    "df = pd.read_csv(filename)\n",
    "df.head()"
   ]
  },
  {
   "cell_type": "code",
   "execution_count": 8,
   "metadata": {},
   "outputs": [
    {
     "data": {
      "text/html": [
       "<div>\n",
       "<style scoped>\n",
       "    .dataframe tbody tr th:only-of-type {\n",
       "        vertical-align: middle;\n",
       "    }\n",
       "\n",
       "    .dataframe tbody tr th {\n",
       "        vertical-align: top;\n",
       "    }\n",
       "\n",
       "    .dataframe thead th {\n",
       "        text-align: right;\n",
       "    }\n",
       "</style>\n",
       "<table border=\"1\" class=\"dataframe\">\n",
       "  <thead>\n",
       "    <tr style=\"text-align: right;\">\n",
       "      <th></th>\n",
       "      <th>info</th>\n",
       "      <th>answer</th>\n",
       "      <th>explanation</th>\n",
       "      <th>question</th>\n",
       "    </tr>\n",
       "  </thead>\n",
       "  <tbody>\n",
       "    <tr>\n",
       "      <th>0</th>\n",
       "      <td>111年學測-國文科第1題</td>\n",
       "      <td>A</td>\n",
       "      <td>NaN</td>\n",
       "      <td>下列「」內的字，讀音前後相同的是：(A)既瘖且「痺」／彈箏搏「髀」 (B)不「忮」不求／「庋...</td>\n",
       "    </tr>\n",
       "    <tr>\n",
       "      <th>1</th>\n",
       "      <td>111年學測-國文科第2題</td>\n",
       "      <td>B</td>\n",
       "      <td>NaN</td>\n",
       "      <td>下列文句，完全沒有錯別字的是：(A)觀音山，故名思義是因遠眺貌似觀音躺臥而得名(B)清晨的山...</td>\n",
       "    </tr>\n",
       "    <tr>\n",
       "      <th>2</th>\n",
       "      <td>111年學測-國文科第3題</td>\n",
       "      <td>A</td>\n",
       "      <td>NaN</td>\n",
       "      <td>下列文句畫底線處的詞語，運用不適當的是：(A)世事變化無常，有如白駒過隙，總讓人感觸良多(B...</td>\n",
       "    </tr>\n",
       "    <tr>\n",
       "      <th>3</th>\n",
       "      <td>111年學測-國文科第4題</td>\n",
       "      <td>C</td>\n",
       "      <td>NaN</td>\n",
       "      <td>依據下列框內資訊，關於斯卡羅族的敘述，最適當的是：斯卡羅族居住於海拔三百公尺以下，在清代已接...</td>\n",
       "    </tr>\n",
       "    <tr>\n",
       "      <th>4</th>\n",
       "      <td>111年學測-國文科第5題</td>\n",
       "      <td>A</td>\n",
       "      <td>NaN</td>\n",
       "      <td>依據下文，關於文中所論不求甚解的讀書態度，敘述最適當的是：讀書不求甚解的態度之一，是服膺高度...</td>\n",
       "    </tr>\n",
       "  </tbody>\n",
       "</table>\n",
       "</div>"
      ],
      "text/plain": [
       "            info answer  explanation  \\\n",
       "0  111年學測-國文科第1題      A          NaN   \n",
       "1  111年學測-國文科第2題      B          NaN   \n",
       "2  111年學測-國文科第3題      A          NaN   \n",
       "3  111年學測-國文科第4題      C          NaN   \n",
       "4  111年學測-國文科第5題      A          NaN   \n",
       "\n",
       "                                            question  \n",
       "0  下列「」內的字，讀音前後相同的是：(A)既瘖且「痺」／彈箏搏「髀」 (B)不「忮」不求／「庋...  \n",
       "1  下列文句，完全沒有錯別字的是：(A)觀音山，故名思義是因遠眺貌似觀音躺臥而得名(B)清晨的山...  \n",
       "2  下列文句畫底線處的詞語，運用不適當的是：(A)世事變化無常，有如白駒過隙，總讓人感觸良多(B...  \n",
       "3  依據下列框內資訊，關於斯卡羅族的敘述，最適當的是：斯卡羅族居住於海拔三百公尺以下，在清代已接...  \n",
       "4  依據下文，關於文中所論不求甚解的讀書態度，敘述最適當的是：讀書不求甚解的態度之一，是服膺高度...  "
      ]
     },
     "execution_count": 8,
     "metadata": {},
     "output_type": "execute_result"
    }
   ],
   "source": [
    "df[\"question\"] = df[\"question\"].apply(lambda x: x.replace(\"\\n\" , \"\"))\n",
    "df.head()\n"
   ]
  },
  {
   "cell_type": "code",
   "execution_count": null,
   "metadata": {},
   "outputs": [],
   "source": [
    "df.to_csv(filename , index=False)"
   ]
  }
 ],
 "metadata": {
  "kernelspec": {
   "display_name": "base",
   "language": "python",
   "name": "python3"
  },
  "language_info": {
   "codemirror_mode": {
    "name": "ipython",
    "version": 3
   },
   "file_extension": ".py",
   "mimetype": "text/x-python",
   "name": "python",
   "nbconvert_exporter": "python",
   "pygments_lexer": "ipython3",
   "version": "3.10.12"
  }
 },
 "nbformat": 4,
 "nbformat_minor": 2
}
