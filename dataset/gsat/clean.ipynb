{
 "cells": [
  {
   "cell_type": "code",
   "execution_count": 5,
   "metadata": {},
   "outputs": [],
   "source": [
    "filename = \"./111_natural_sciences.csv\""
   ]
  },
  {
   "cell_type": "code",
   "execution_count": 6,
   "metadata": {},
   "outputs": [
    {
     "data": {
      "text/html": [
       "<div>\n",
       "<style scoped>\n",
       "    .dataframe tbody tr th:only-of-type {\n",
       "        vertical-align: middle;\n",
       "    }\n",
       "\n",
       "    .dataframe tbody tr th {\n",
       "        vertical-align: top;\n",
       "    }\n",
       "\n",
       "    .dataframe thead th {\n",
       "        text-align: right;\n",
       "    }\n",
       "</style>\n",
       "<table border=\"1\" class=\"dataframe\">\n",
       "  <thead>\n",
       "    <tr style=\"text-align: right;\">\n",
       "      <th></th>\n",
       "      <th>info</th>\n",
       "      <th>answer</th>\n",
       "      <th>explanation</th>\n",
       "      <th>question</th>\n",
       "    </tr>\n",
       "  </thead>\n",
       "  <tbody>\n",
       "    <tr>\n",
       "      <th>0</th>\n",
       "      <td>111年學測-自然科第3題</td>\n",
       "      <td>B</td>\n",
       "      <td>NaN</td>\n",
       "      <td>已知地球(E)與火星(M)的平均半徑比值 (RE/RM) 約為 1.86，質量比值 (mE/...</td>\n",
       "    </tr>\n",
       "    <tr>\n",
       "      <th>1</th>\n",
       "      <td>111年學測-自然科第4題</td>\n",
       "      <td>DE</td>\n",
       "      <td>NaN</td>\n",
       "      <td>自然界的基本交互作用中，哪幾種對日常天氣現象的影響最為明顯常見?(應選 2 項) \\n(A)...</td>\n",
       "    </tr>\n",
       "    <tr>\n",
       "      <th>2</th>\n",
       "      <td>111年學測-自然科第5題</td>\n",
       "      <td>A</td>\n",
       "      <td>NaN</td>\n",
       "      <td>\\t若質量為 720 公斤的球體，具有 3600 千焦耳的動能，則此球體的速率約為多少 公尺...</td>\n",
       "    </tr>\n",
       "    <tr>\n",
       "      <th>3</th>\n",
       "      <td>111年學測-自然科第9題</td>\n",
       "      <td>B</td>\n",
       "      <td>NaN</td>\n",
       "      <td>下列關於科學史實敘述，何者正確? (A)馬克士威以馬克士威方程式解釋光電效應 (B)愛因斯坦...</td>\n",
       "    </tr>\n",
       "    <tr>\n",
       "      <th>4</th>\n",
       "      <td>111年學測-自然科第14題</td>\n",
       "      <td>C</td>\n",
       "      <td>NaN</td>\n",
       "      <td>汽油是含有 5 至 12 個碳原子的碳氫化合物，燃燒時會排放 CO2 ，是造成空氣中 CO2...</td>\n",
       "    </tr>\n",
       "  </tbody>\n",
       "</table>\n",
       "</div>"
      ],
      "text/plain": [
       "             info answer  explanation  \\\n",
       "0   111年學測-自然科第3題      B          NaN   \n",
       "1   111年學測-自然科第4題     DE          NaN   \n",
       "2   111年學測-自然科第5題      A          NaN   \n",
       "3   111年學測-自然科第9題      B          NaN   \n",
       "4  111年學測-自然科第14題      C          NaN   \n",
       "\n",
       "                                            question  \n",
       "0  已知地球(E)與火星(M)的平均半徑比值 (RE/RM) 約為 1.86，質量比值 (mE/...  \n",
       "1  自然界的基本交互作用中，哪幾種對日常天氣現象的影響最為明顯常見?(應選 2 項) \\n(A)...  \n",
       "2  \\t若質量為 720 公斤的球體，具有 3600 千焦耳的動能，則此球體的速率約為多少 公尺...  \n",
       "3  下列關於科學史實敘述，何者正確? (A)馬克士威以馬克士威方程式解釋光電效應 (B)愛因斯坦...  \n",
       "4  汽油是含有 5 至 12 個碳原子的碳氫化合物，燃燒時會排放 CO2 ，是造成空氣中 CO2...  "
      ]
     },
     "execution_count": 6,
     "metadata": {},
     "output_type": "execute_result"
    }
   ],
   "source": [
    "import pandas as pd\n",
    "df = pd.read_csv(filename)\n",
    "df.head()"
   ]
  },
  {
   "cell_type": "code",
   "execution_count": 7,
   "metadata": {},
   "outputs": [
    {
     "data": {
      "text/html": [
       "<div>\n",
       "<style scoped>\n",
       "    .dataframe tbody tr th:only-of-type {\n",
       "        vertical-align: middle;\n",
       "    }\n",
       "\n",
       "    .dataframe tbody tr th {\n",
       "        vertical-align: top;\n",
       "    }\n",
       "\n",
       "    .dataframe thead th {\n",
       "        text-align: right;\n",
       "    }\n",
       "</style>\n",
       "<table border=\"1\" class=\"dataframe\">\n",
       "  <thead>\n",
       "    <tr style=\"text-align: right;\">\n",
       "      <th></th>\n",
       "      <th>info</th>\n",
       "      <th>answer</th>\n",
       "      <th>explanation</th>\n",
       "      <th>question</th>\n",
       "    </tr>\n",
       "  </thead>\n",
       "  <tbody>\n",
       "    <tr>\n",
       "      <th>0</th>\n",
       "      <td>111年學測-自然科第3題</td>\n",
       "      <td>B</td>\n",
       "      <td>NaN</td>\n",
       "      <td>已知地球(E)與火星(M)的平均半徑比值(RE/RM)約為1.86，質量比值(mE/mM)約...</td>\n",
       "    </tr>\n",
       "    <tr>\n",
       "      <th>1</th>\n",
       "      <td>111年學測-自然科第4題</td>\n",
       "      <td>DE</td>\n",
       "      <td>NaN</td>\n",
       "      <td>自然界的基本交互作用中，哪幾種對日常天氣現象的影響最為明顯常見?(應選2項)(A)弱作用(弱...</td>\n",
       "    </tr>\n",
       "    <tr>\n",
       "      <th>2</th>\n",
       "      <td>111年學測-自然科第5題</td>\n",
       "      <td>A</td>\n",
       "      <td>NaN</td>\n",
       "      <td>\\t若質量為720公斤的球體，具有3600千焦耳的動能，則此球體的速率約為多少公尺/秒?(A...</td>\n",
       "    </tr>\n",
       "    <tr>\n",
       "      <th>3</th>\n",
       "      <td>111年學測-自然科第9題</td>\n",
       "      <td>B</td>\n",
       "      <td>NaN</td>\n",
       "      <td>下列關於科學史實敘述，何者正確?(A)馬克士威以馬克士威方程式解釋光電效應(B)愛因斯坦以光...</td>\n",
       "    </tr>\n",
       "    <tr>\n",
       "      <th>4</th>\n",
       "      <td>111年學測-自然科第14題</td>\n",
       "      <td>C</td>\n",
       "      <td>NaN</td>\n",
       "      <td>汽油是含有5至12個碳原子的碳氫化合物，燃燒時會排放CO2，是造成空氣中CO2增加的原因之一...</td>\n",
       "    </tr>\n",
       "  </tbody>\n",
       "</table>\n",
       "</div>"
      ],
      "text/plain": [
       "             info answer  explanation  \\\n",
       "0   111年學測-自然科第3題      B          NaN   \n",
       "1   111年學測-自然科第4題     DE          NaN   \n",
       "2   111年學測-自然科第5題      A          NaN   \n",
       "3   111年學測-自然科第9題      B          NaN   \n",
       "4  111年學測-自然科第14題      C          NaN   \n",
       "\n",
       "                                            question  \n",
       "0  已知地球(E)與火星(M)的平均半徑比值(RE/RM)約為1.86，質量比值(mE/mM)約...  \n",
       "1  自然界的基本交互作用中，哪幾種對日常天氣現象的影響最為明顯常見?(應選2項)(A)弱作用(弱...  \n",
       "2  \\t若質量為720公斤的球體，具有3600千焦耳的動能，則此球體的速率約為多少公尺/秒?(A...  \n",
       "3  下列關於科學史實敘述，何者正確?(A)馬克士威以馬克士威方程式解釋光電效應(B)愛因斯坦以光...  \n",
       "4  汽油是含有5至12個碳原子的碳氫化合物，燃燒時會排放CO2，是造成空氣中CO2增加的原因之一...  "
      ]
     },
     "execution_count": 7,
     "metadata": {},
     "output_type": "execute_result"
    }
   ],
   "source": [
    "df[\"question\"] = df[\"question\"].apply(lambda x: x.replace(\"\\n\" , \"\").replace(\" \",\"\"))\n",
    "df.head()\n"
   ]
  },
  {
   "cell_type": "code",
   "execution_count": 8,
   "metadata": {},
   "outputs": [],
   "source": [
    "df.to_csv(filename , index=False)"
   ]
  }
 ],
 "metadata": {
  "kernelspec": {
   "display_name": "base",
   "language": "python",
   "name": "python3"
  },
  "language_info": {
   "codemirror_mode": {
    "name": "ipython",
    "version": 3
   },
   "file_extension": ".py",
   "mimetype": "text/x-python",
   "name": "python",
   "nbconvert_exporter": "python",
   "pygments_lexer": "ipython3",
   "version": "3.10.14"
  }
 },
 "nbformat": 4,
 "nbformat_minor": 2
}
