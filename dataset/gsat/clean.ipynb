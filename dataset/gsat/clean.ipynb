{
 "cells": [
  {
   "cell_type": "code",
   "execution_count": 1,
   "metadata": {},
   "outputs": [],
   "source": [
    "filename = \"./109_natural_sciences.csv\""
   ]
  },
  {
   "cell_type": "code",
   "execution_count": 2,
   "metadata": {},
   "outputs": [
    {
     "data": {
      "text/html": [
       "<div>\n",
       "<style scoped>\n",
       "    .dataframe tbody tr th:only-of-type {\n",
       "        vertical-align: middle;\n",
       "    }\n",
       "\n",
       "    .dataframe tbody tr th {\n",
       "        vertical-align: top;\n",
       "    }\n",
       "\n",
       "    .dataframe thead th {\n",
       "        text-align: right;\n",
       "    }\n",
       "</style>\n",
       "<table border=\"1\" class=\"dataframe\">\n",
       "  <thead>\n",
       "    <tr style=\"text-align: right;\">\n",
       "      <th></th>\n",
       "      <th>info</th>\n",
       "      <th>answer</th>\n",
       "      <th>explanation</th>\n",
       "      <th>question</th>\n",
       "    </tr>\n",
       "  </thead>\n",
       "  <tbody>\n",
       "    <tr>\n",
       "      <th>0</th>\n",
       "      <td>110年學測-自然科第1題</td>\n",
       "      <td>A</td>\n",
       "      <td>NaN</td>\n",
       "      <td>\\t寒流來襲，某地發生因熱水器使用不當造成的一氧化碳( CO)中毒案例，幸經 施予高壓氧及時...</td>\n",
       "    </tr>\n",
       "    <tr>\n",
       "      <th>1</th>\n",
       "      <td>110年學測-自然科第2題</td>\n",
       "      <td>E</td>\n",
       "      <td>NaN</td>\n",
       "      <td>\\t顯微鏡下觀察兔子睪丸切片，可看到 3 型細胞如下: 甲、位於細精管間的細胞 乙、靠近細精...</td>\n",
       "    </tr>\n",
       "    <tr>\n",
       "      <th>2</th>\n",
       "      <td>110年學測-自然科第3題</td>\n",
       "      <td>D</td>\n",
       "      <td>NaN</td>\n",
       "      <td>\\t某短日照植物的臨界日長為 13 小時，若其開花僅受光週期的影響，此植物在哪 一情況最不易...</td>\n",
       "    </tr>\n",
       "    <tr>\n",
       "      <th>3</th>\n",
       "      <td>110年學測-自然科第5題</td>\n",
       "      <td>D</td>\n",
       "      <td>NaN</td>\n",
       "      <td>\\t自然界中，氧化還原反應扮演著重要的角色，下列有關碳循環的過程，何者沒有 牽涉到氧化還原反...</td>\n",
       "    </tr>\n",
       "    <tr>\n",
       "      <th>4</th>\n",
       "      <td>110年學測-自然科第6題</td>\n",
       "      <td>B</td>\n",
       "      <td>NaN</td>\n",
       "      <td>\\t石蕊在 pH 小於 4.5 與大於 8.3 的溶液中分別呈現紅色與藍色，將白色濾紙分別 ...</td>\n",
       "    </tr>\n",
       "  </tbody>\n",
       "</table>\n",
       "</div>"
      ],
      "text/plain": [
       "            info answer  explanation  \\\n",
       "0  110年學測-自然科第1題      A          NaN   \n",
       "1  110年學測-自然科第2題      E          NaN   \n",
       "2  110年學測-自然科第3題      D          NaN   \n",
       "3  110年學測-自然科第5題      D          NaN   \n",
       "4  110年學測-自然科第6題      B          NaN   \n",
       "\n",
       "                                            question  \n",
       "0  \\t寒流來襲，某地發生因熱水器使用不當造成的一氧化碳( CO)中毒案例，幸經 施予高壓氧及時...  \n",
       "1  \\t顯微鏡下觀察兔子睪丸切片，可看到 3 型細胞如下: 甲、位於細精管間的細胞\n",
       "乙、靠近細精...  \n",
       "2  \\t某短日照植物的臨界日長為 13 小時，若其開花僅受光週期的影響，此植物在哪 一情況最不易...  \n",
       "3  \\t自然界中，氧化還原反應扮演著重要的角色，下列有關碳循環的過程，何者沒有 牽涉到氧化還原反...  \n",
       "4  \\t石蕊在 pH 小於 4.5 與大於 8.3 的溶液中分別呈現紅色與藍色，將白色濾紙分別 ...  "
      ]
     },
     "execution_count": 2,
     "metadata": {},
     "output_type": "execute_result"
    }
   ],
   "source": [
    "import pandas as pd\n",
    "df = pd.read_csv(filename)\n",
    "df.head()"
   ]
  },
  {
   "cell_type": "code",
   "execution_count": 3,
   "metadata": {},
   "outputs": [
    {
     "data": {
      "text/html": [
       "<div>\n",
       "<style scoped>\n",
       "    .dataframe tbody tr th:only-of-type {\n",
       "        vertical-align: middle;\n",
       "    }\n",
       "\n",
       "    .dataframe tbody tr th {\n",
       "        vertical-align: top;\n",
       "    }\n",
       "\n",
       "    .dataframe thead th {\n",
       "        text-align: right;\n",
       "    }\n",
       "</style>\n",
       "<table border=\"1\" class=\"dataframe\">\n",
       "  <thead>\n",
       "    <tr style=\"text-align: right;\">\n",
       "      <th></th>\n",
       "      <th>info</th>\n",
       "      <th>answer</th>\n",
       "      <th>explanation</th>\n",
       "      <th>question</th>\n",
       "    </tr>\n",
       "  </thead>\n",
       "  <tbody>\n",
       "    <tr>\n",
       "      <th>0</th>\n",
       "      <td>110年學測-自然科第1題</td>\n",
       "      <td>A</td>\n",
       "      <td>NaN</td>\n",
       "      <td>\\t寒流來襲，某地發生因熱水器使用不當造成的一氧化碳(CO)中毒案例，幸經施予高壓氧及時救回...</td>\n",
       "    </tr>\n",
       "    <tr>\n",
       "      <th>1</th>\n",
       "      <td>110年學測-自然科第2題</td>\n",
       "      <td>E</td>\n",
       "      <td>NaN</td>\n",
       "      <td>\\t顯微鏡下觀察兔子睪丸切片，可看到3型細胞如下:甲、位於細精管間的細胞 乙、靠近細精管壁內...</td>\n",
       "    </tr>\n",
       "    <tr>\n",
       "      <th>2</th>\n",
       "      <td>110年學測-自然科第3題</td>\n",
       "      <td>D</td>\n",
       "      <td>NaN</td>\n",
       "      <td>\\t某短日照植物的臨界日長為13小時，若其開花僅受光週期的影響，此植物在哪一情況最不易開花?...</td>\n",
       "    </tr>\n",
       "    <tr>\n",
       "      <th>3</th>\n",
       "      <td>110年學測-自然科第5題</td>\n",
       "      <td>D</td>\n",
       "      <td>NaN</td>\n",
       "      <td>\\t自然界中，氧化還原反應扮演著重要的角色，下列有關碳循環的過程，何者沒有牽涉到氧化還原反應...</td>\n",
       "    </tr>\n",
       "    <tr>\n",
       "      <th>4</th>\n",
       "      <td>110年學測-自然科第6題</td>\n",
       "      <td>B</td>\n",
       "      <td>NaN</td>\n",
       "      <td>\\t石蕊在pH小於4.5與大於8.3的溶液中分別呈現紅色與藍色，將白色濾紙分別浸置其中，晾乾...</td>\n",
       "    </tr>\n",
       "  </tbody>\n",
       "</table>\n",
       "</div>"
      ],
      "text/plain": [
       "            info answer  explanation  \\\n",
       "0  110年學測-自然科第1題      A          NaN   \n",
       "1  110年學測-自然科第2題      E          NaN   \n",
       "2  110年學測-自然科第3題      D          NaN   \n",
       "3  110年學測-自然科第5題      D          NaN   \n",
       "4  110年學測-自然科第6題      B          NaN   \n",
       "\n",
       "                                            question  \n",
       "0  \\t寒流來襲，某地發生因熱水器使用不當造成的一氧化碳(CO)中毒案例，幸經施予高壓氧及時救回...  \n",
       "1  \\t顯微鏡下觀察兔子睪丸切片，可看到3型細胞如下:甲、位於細精管間的細胞\n",
       "乙、靠近細精管壁內...  \n",
       "2  \\t某短日照植物的臨界日長為13小時，若其開花僅受光週期的影響，此植物在哪一情況最不易開花?...  \n",
       "3  \\t自然界中，氧化還原反應扮演著重要的角色，下列有關碳循環的過程，何者沒有牽涉到氧化還原反應...  \n",
       "4  \\t石蕊在pH小於4.5與大於8.3的溶液中分別呈現紅色與藍色，將白色濾紙分別浸置其中，晾乾...  "
      ]
     },
     "execution_count": 3,
     "metadata": {},
     "output_type": "execute_result"
    }
   ],
   "source": [
    "df[\"question\"] = df[\"question\"].apply(lambda x: x.replace(\"\\n\" , \"\").replace(\" \",\"\"))\n",
    "df.head()\n"
   ]
  },
  {
   "cell_type": "code",
   "execution_count": 4,
   "metadata": {},
   "outputs": [],
   "source": [
    "df.to_csv(filename , index=False)"
   ]
  }
 ],
 "metadata": {
  "kernelspec": {
   "display_name": "base",
   "language": "python",
   "name": "python3"
  },
  "language_info": {
   "codemirror_mode": {
    "name": "ipython",
    "version": 3
   },
   "file_extension": ".py",
   "mimetype": "text/x-python",
   "name": "python",
   "nbconvert_exporter": "python",
   "pygments_lexer": "ipython3",
   "version": "3.10.14"
  }
 },
 "nbformat": 4,
 "nbformat_minor": 2
}
