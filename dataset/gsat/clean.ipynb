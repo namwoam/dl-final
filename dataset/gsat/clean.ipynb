{
 "cells": [
  {
   "cell_type": "code",
   "execution_count": 1,
   "metadata": {},
   "outputs": [],
   "source": [
    "filename = \"./113_natural_sciences.csv\""
   ]
  },
  {
   "cell_type": "code",
   "execution_count": 2,
   "metadata": {},
   "outputs": [
    {
     "data": {
      "text/html": [
       "<div>\n",
       "<style scoped>\n",
       "    .dataframe tbody tr th:only-of-type {\n",
       "        vertical-align: middle;\n",
       "    }\n",
       "\n",
       "    .dataframe tbody tr th {\n",
       "        vertical-align: top;\n",
       "    }\n",
       "\n",
       "    .dataframe thead th {\n",
       "        text-align: right;\n",
       "    }\n",
       "</style>\n",
       "<table border=\"1\" class=\"dataframe\">\n",
       "  <thead>\n",
       "    <tr style=\"text-align: right;\">\n",
       "      <th></th>\n",
       "      <th>info</th>\n",
       "      <th>answer</th>\n",
       "      <th>explanation</th>\n",
       "      <th>question</th>\n",
       "    </tr>\n",
       "  </thead>\n",
       "  <tbody>\n",
       "    <tr>\n",
       "      <th>0</th>\n",
       "      <td>113年學測-自然科第3題</td>\n",
       "      <td>BDE</td>\n",
       "      <td>NaN</td>\n",
       "      <td>依 據 細 胞 學 說 的 主 要 內 容 及 其 推 論 ， 下 列 哪 些 正 確 ？ ...</td>\n",
       "    </tr>\n",
       "    <tr>\n",
       "      <th>1</th>\n",
       "      <td>113年學測-自然科第4題</td>\n",
       "      <td>ABC</td>\n",
       "      <td>NaN</td>\n",
       "      <td>4. 孟 德 爾 進 行 一 系 列 的 豌 豆 雜 交 實 驗，並 將 實 驗 數 據 分...</td>\n",
       "    </tr>\n",
       "    <tr>\n",
       "      <th>2</th>\n",
       "      <td>113年學測-自然科第5題</td>\n",
       "      <td>CDE</td>\n",
       "      <td>NaN</td>\n",
       "      <td>5. 卡 里 科 和 魏 斯 曼 為 2023 年 諾 貝 爾 生 醫 獎 的 得 主。他 ...</td>\n",
       "    </tr>\n",
       "    <tr>\n",
       "      <th>3</th>\n",
       "      <td>113年學測-自然科第6題</td>\n",
       "      <td>E</td>\n",
       "      <td>NaN</td>\n",
       "      <td>6. 已 知 一 段 雙 股 去 氧 核 糖 核 酸 ， 其 中 一 股 的 含 氮 鹼 基...</td>\n",
       "    </tr>\n",
       "    <tr>\n",
       "      <th>4</th>\n",
       "      <td>113年學測-自然科第7題</td>\n",
       "      <td>BE</td>\n",
       "      <td>NaN</td>\n",
       "      <td>7. 一 種 微 球 菌 Paenarthrobacteria ureafaciens K1...</td>\n",
       "    </tr>\n",
       "  </tbody>\n",
       "</table>\n",
       "</div>"
      ],
      "text/plain": [
       "            info answer  explanation  \\\n",
       "0  113年學測-自然科第3題    BDE          NaN   \n",
       "1  113年學測-自然科第4題    ABC          NaN   \n",
       "2  113年學測-自然科第5題    CDE          NaN   \n",
       "3  113年學測-自然科第6題      E          NaN   \n",
       "4  113年學測-自然科第7題     BE          NaN   \n",
       "\n",
       "                                            question  \n",
       "0  依 據 細 胞 學 說 的 主 要 內 容 及 其 推 論 ， 下 列 哪 些 正 確 ？ ...  \n",
       "1  4. 孟 德 爾 進 行 一 系 列 的 豌 豆 雜 交 實 驗，並 將 實 驗 數 據 分...  \n",
       "2  5. 卡 里 科 和 魏 斯 曼 為 2023 年 諾 貝 爾 生 醫 獎 的 得 主。他 ...  \n",
       "3  6. 已 知 一 段 雙 股 去 氧 核 糖 核 酸 ， 其 中 一 股 的 含 氮 鹼 基...  \n",
       "4  7. 一 種 微 球 菌 Paenarthrobacteria ureafaciens K1...  "
      ]
     },
     "execution_count": 2,
     "metadata": {},
     "output_type": "execute_result"
    }
   ],
   "source": [
    "import pandas as pd\n",
    "df = pd.read_csv(filename)\n",
    "df.head()"
   ]
  },
  {
   "cell_type": "code",
   "execution_count": 3,
   "metadata": {},
   "outputs": [
    {
     "data": {
      "text/html": [
       "<div>\n",
       "<style scoped>\n",
       "    .dataframe tbody tr th:only-of-type {\n",
       "        vertical-align: middle;\n",
       "    }\n",
       "\n",
       "    .dataframe tbody tr th {\n",
       "        vertical-align: top;\n",
       "    }\n",
       "\n",
       "    .dataframe thead th {\n",
       "        text-align: right;\n",
       "    }\n",
       "</style>\n",
       "<table border=\"1\" class=\"dataframe\">\n",
       "  <thead>\n",
       "    <tr style=\"text-align: right;\">\n",
       "      <th></th>\n",
       "      <th>info</th>\n",
       "      <th>answer</th>\n",
       "      <th>explanation</th>\n",
       "      <th>question</th>\n",
       "    </tr>\n",
       "  </thead>\n",
       "  <tbody>\n",
       "    <tr>\n",
       "      <th>0</th>\n",
       "      <td>113年學測-自然科第3題</td>\n",
       "      <td>BDE</td>\n",
       "      <td>NaN</td>\n",
       "      <td>依據細胞學說的主要內容及其推論，下列哪些正確？（應選3項）(A)病毒細胞是病毒體的構造與功能...</td>\n",
       "    </tr>\n",
       "    <tr>\n",
       "      <th>1</th>\n",
       "      <td>113年學測-自然科第4題</td>\n",
       "      <td>ABC</td>\n",
       "      <td>NaN</td>\n",
       "      <td>4.孟德爾進行一系列的豌豆雜交實驗，並將實驗數據分析後，整理出分離律與獨立分配律二個遺傳法則...</td>\n",
       "    </tr>\n",
       "    <tr>\n",
       "      <th>2</th>\n",
       "      <td>113年學測-自然科第5題</td>\n",
       "      <td>CDE</td>\n",
       "      <td>NaN</td>\n",
       "      <td>5.卡里科和魏斯曼為2023年諾貝爾生醫獎的得主。他們發現RNA中的部分尿嘧啶（U）用假尿嘧...</td>\n",
       "    </tr>\n",
       "    <tr>\n",
       "      <th>3</th>\n",
       "      <td>113年學測-自然科第6題</td>\n",
       "      <td>E</td>\n",
       "      <td>NaN</td>\n",
       "      <td>6.已知一段雙股去氧核糖核酸，其中一股的含氮鹼基序列為ATTGCCTTA，A為腺嘌呤、T為胸...</td>\n",
       "    </tr>\n",
       "    <tr>\n",
       "      <th>4</th>\n",
       "      <td>113年學測-自然科第7題</td>\n",
       "      <td>BE</td>\n",
       "      <td>NaN</td>\n",
       "      <td>7.一種微球菌PaenarthrobacteriaureafaciensK172（簡稱K17...</td>\n",
       "    </tr>\n",
       "  </tbody>\n",
       "</table>\n",
       "</div>"
      ],
      "text/plain": [
       "            info answer  explanation  \\\n",
       "0  113年學測-自然科第3題    BDE          NaN   \n",
       "1  113年學測-自然科第4題    ABC          NaN   \n",
       "2  113年學測-自然科第5題    CDE          NaN   \n",
       "3  113年學測-自然科第6題      E          NaN   \n",
       "4  113年學測-自然科第7題     BE          NaN   \n",
       "\n",
       "                                            question  \n",
       "0  依據細胞學說的主要內容及其推論，下列哪些正確？（應選3項）(A)病毒細胞是病毒體的構造與功能...  \n",
       "1  4.孟德爾進行一系列的豌豆雜交實驗，並將實驗數據分析後，整理出分離律與獨立分配律二個遺傳法則...  \n",
       "2  5.卡里科和魏斯曼為2023年諾貝爾生醫獎的得主。他們發現RNA中的部分尿嘧啶（U）用假尿嘧...  \n",
       "3  6.已知一段雙股去氧核糖核酸，其中一股的含氮鹼基序列為ATTGCCTTA，A為腺嘌呤、T為胸...  \n",
       "4  7.一種微球菌PaenarthrobacteriaureafaciensK172（簡稱K17...  "
      ]
     },
     "execution_count": 3,
     "metadata": {},
     "output_type": "execute_result"
    }
   ],
   "source": [
    "df[\"question\"] = df[\"question\"].apply(lambda x: x.replace(\"\\n\" , \"\").replace(\" \",\"\"))\n",
    "df.head()\n"
   ]
  },
  {
   "cell_type": "code",
   "execution_count": 4,
   "metadata": {},
   "outputs": [],
   "source": [
    "df.to_csv(filename , index=False)"
   ]
  }
 ],
 "metadata": {
  "kernelspec": {
   "display_name": "base",
   "language": "python",
   "name": "python3"
  },
  "language_info": {
   "codemirror_mode": {
    "name": "ipython",
    "version": 3
   },
   "file_extension": ".py",
   "mimetype": "text/x-python",
   "name": "python",
   "nbconvert_exporter": "python",
   "pygments_lexer": "ipython3",
   "version": "3.10.14"
  }
 },
 "nbformat": 4,
 "nbformat_minor": 2
}
