{
 "cells": [
  {
   "cell_type": "markdown",
   "metadata": {},
   "source": [
    "# Data cleaning for chinese continuous-pretraining data"
   ]
  },
  {
   "cell_type": "code",
   "execution_count": 7,
   "metadata": {},
   "outputs": [
    {
     "name": "stdout",
     "output_type": "stream",
     "text": [
      "['1-01.pdf', '1-02.pdf', '1-03.pdf', '1-04.pdf', '1-05.pdf', '1-06.pdf', '1-07.pdf', '1-08.pdf', '1.txt', '2-01.pdf', '2-02.pdf', '2-03.pdf', '2-04.pdf', '2-05.pdf', '2-06.pdf', '2.txt', '3-01.pdf', '3-02.pdf', '3-03.pdf', '3.txt', '4-01.pdf', '4-02.pdf', '4-03.pdf', '4-04.pdf', '4-05.pdf', '4-06.pdf', '4-07.pdf', '4-08.pdf', '4.txt', 'ns-clean.ipynb']\n"
     ]
    }
   ],
   "source": [
    "from os import listdir\n",
    "from os.path import isfile, join\n",
    "import re\n",
    "files = [f for f in listdir(\"./\") if isfile(join(\"./\", f))]\n",
    "files = sorted(files)\n",
    "print(files)\n",
    "\n",
    "# 1 for chem, 2 for physic, 3 for biology, 4 for earth science"
   ]
  },
  {
   "cell_type": "code",
   "execution_count": 9,
   "metadata": {},
   "outputs": [
    {
     "name": "stderr",
     "output_type": "stream",
     "text": [
      "Processing book1: 100%|██████████| 30/30 [00:04<00:00,  7.46it/s]\n",
      "Processing book2: 100%|██████████| 30/30 [00:03<00:00,  9.74it/s]\n",
      "Processing book3: 100%|██████████| 30/30 [00:04<00:00,  6.96it/s]\n",
      "Processing book4: 100%|██████████| 30/30 [00:05<00:00,  5.31it/s]\n"
     ]
    }
   ],
   "source": [
    "from tqdm import tqdm\n",
    "from tika import parser\n",
    "import tika\n",
    "tika.initVM()\n",
    "\n",
    "\n",
    "\n",
    "for index in range(1,5):\n",
    "    \n",
    "    book_content = []\n",
    "    for filename in tqdm(files, desc=f\"Processing book{index}\"):\n",
    "        if not filename.endswith(\".pdf\") or not filename.startswith(str(index)):\n",
    "            continue\n",
    "        parsed = parser.from_file(filename)\n",
    "        text = parsed[\"content\"]\n",
    "        if text is None:\n",
    "            continue\n",
    "        text = text.replace(\"�\", \"\")\n",
    "        text = text.replace(\"\\n\", \"\")\n",
    "        text = text.replace(\"　\", \"\")\n",
    "        text = text.replace(\"\u0001\", \"\")\n",
    "        text = text.replace(\" \", \"\")\n",
    "        text = text.replace(\"﹂\", \"\")\n",
    "        text = text.replace(\"﹁\", \"\")\n",
    "        text = text.replace(\"︶\", \"\")\n",
    "        text = text.replace(\"︵\", \"\")\n",
    "        text = text.replace(\"︻\", \"\")\n",
    "        text = text.replace(\"︼\", \"\")\n",
    "        text = re.sub(r\"https?:[^\\s]+\", '', text)\n",
    "        book_content.append(text)\n",
    "    with open(f\"{index}.txt\", \"w+\") as writer:\n",
    "        writer.write(\"\\n\".join(book_content))"
   ]
  }
 ],
 "metadata": {
  "kernelspec": {
   "display_name": "base",
   "language": "python",
   "name": "python3"
  },
  "language_info": {
   "codemirror_mode": {
    "name": "ipython",
    "version": 3
   },
   "file_extension": ".py",
   "mimetype": "text/x-python",
   "name": "python",
   "nbconvert_exporter": "python",
   "pygments_lexer": "ipython3",
   "version": "3.10.14"
  }
 },
 "nbformat": 4,
 "nbformat_minor": 2
}
