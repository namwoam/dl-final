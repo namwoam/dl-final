{
 "cells": [
  {
   "cell_type": "markdown",
   "metadata": {},
   "source": [
    "# Data cleaning for chinese continuous-pretraining data"
   ]
  },
  {
   "cell_type": "code",
   "execution_count": 43,
   "metadata": {},
   "outputs": [
    {
     "name": "stdout",
     "output_type": "stream",
     "text": [
      "995\n"
     ]
    }
   ],
   "source": [
    "from os import listdir\n",
    "from os.path import isfile, join\n",
    "files = [f for f in listdir(\"./\") if isfile(join(\"./\", f))]\n",
    "print(len(files))"
   ]
  },
  {
   "cell_type": "code",
   "execution_count": 45,
   "metadata": {},
   "outputs": [
    {
     "name": "stderr",
     "output_type": "stream",
     "text": [
      "Processing book1:  19%|█▉        | 40/213 [00:00<00:00, 384.80it/s]"
     ]
    },
    {
     "name": "stdout",
     "output_type": "stream",
     "text": [
      "Processing: s-1-10孔乙己-01課本-page_001.pdf\n",
      "Processing: s-1-10孔乙己-01課本-page_002.pdf\n",
      "Processing: s-1-10孔乙己-01課本-page_003.pdf\n",
      "Processing: s-1-10孔乙己-01課本-page_004.pdf\n",
      "Processing: s-1-10孔乙己-01課本-page_005.pdf\n",
      "Processing: s-1-10孔乙己-01課本-page_006.pdf\n",
      "Processing: s-1-10孔乙己-01課本-page_007.pdf\n",
      "Processing: s-1-10孔乙己-01課本-page_008.pdf\n",
      "Processing: s-1-10孔乙己-01課本-page_009.pdf\n",
      "Processing: s-1-10孔乙己-01課本-page_010.pdf\n",
      "Processing: s-1-10孔乙己-01課本-page_011.pdf\n",
      "Processing: s-1-10孔乙己-01課本-page_012.pdf\n",
      "Processing: s-1-10孔乙己-01課本-page_013.pdf\n",
      "Processing: s-1-10孔乙己-01課本-page_014.pdf\n",
      "Processing: s-1-10孔乙己-01課本-page_015.pdf\n",
      "Processing: s-1-11記憶中的一爿書店-01課本-page_001.pdf\n",
      "Processing: s-1-11記憶中的一爿書店-01課本-page_002.pdf\n",
      "Processing: s-1-11記憶中的一爿書店-01課本-page_003.pdf\n",
      "Processing: s-1-11記憶中的一爿書店-01課本-page_004.pdf\n",
      "Processing: s-1-11記憶中的一爿書店-01課本-page_005.pdf\n",
      "Processing: s-1-11記憶中的一爿書店-01課本-page_006.pdf\n",
      "Processing: s-1-11記憶中的一爿書店-01課本-page_007.pdf\n",
      "Processing: s-1-11記憶中的一爿書店-01課本-page_008.pdf\n",
      "Processing: s-1-11記憶中的一爿書店-01課本-page_009.pdf\n",
      "Processing: s-1-11記憶中的一爿書店-01課本-page_010.pdf\n",
      "Processing: s-1-11記憶中的一爿書店-01課本-page_011.pdf\n",
      "Processing: s-1-11記憶中的一爿書店-01課本-page_012.pdf\n",
      "Processing: s-1-11記憶中的一爿書店-01課本-page_013.pdf\n",
      "Processing: s-1-11記憶中的一爿書店-01課本-page_014.pdf\n",
      "Processing: s-1-11記憶中的一爿書店-01課本-page_015.pdf\n",
      "Processing: s-1-12論語選讀-01課本-page_001.pdf\n",
      "Processing: s-1-12論語選讀-01課本-page_002.pdf\n",
      "Processing: s-1-12論語選讀-01課本-page_003.pdf\n",
      "Processing: s-1-12論語選讀-01課本-page_004.pdf\n",
      "Processing: s-1-12論語選讀-01課本-page_005.pdf\n",
      "Processing: s-1-12論語選讀-01課本-page_006.pdf\n",
      "Processing: s-1-12論語選讀-01課本-page_007.pdf\n",
      "Processing: s-1-12論語選讀-01課本-page_008.pdf\n",
      "Processing: s-1-12論語選讀-01課本-page_009.pdf\n",
      "Processing: s-1-12論語選讀-01課本-page_010.pdf\n",
      "Processing: s-1-12論語選讀-01課本-page_011.pdf\n",
      "Processing: s-1-12論語選讀-01課本-page_012.pdf\n",
      "Processing: s-1-12論語選讀-01課本-page_013.pdf\n",
      "Processing: s-1-12論語選讀-01課本-page_014.pdf\n",
      "Processing: s-1-12論語選讀-01課本-page_015.pdf\n",
      "Processing: s-1-12論語選讀-01課本-page_016.pdf\n",
      "Processing: s-1-12論語選讀-01課本-page_017.pdf\n",
      "Processing: s-1-12論語選讀-01課本-page_018.pdf\n",
      "Processing: s-1-12論語選讀-01課本-page_019.pdf\n",
      "Processing: s-1-12論語選讀-01課本-page_020.pdf\n",
      "Processing: s-1-12論語選讀-01課本-page_021.pdf\n",
      "Processing: s-1-12論語選讀-01課本-page_022.pdf\n",
      "Processing: s-1-12論語選讀-01課本-page_023.pdf\n",
      "Processing: s-1-12論語選讀-01課本-page_024.pdf\n",
      "Processing: s-1-12論語選讀-01課本-page_025.pdf\n",
      "Processing: s-1-12論語選讀-01課本-page_026.pdf\n",
      "Processing: s-1-12論語選讀-01課本-page_027.pdf\n"
     ]
    },
    {
     "name": "stderr",
     "output_type": "stream",
     "text": [
      "Processing book1:  37%|███▋      | 79/213 [00:00<00:00, 134.74it/s]"
     ]
    },
    {
     "name": "stdout",
     "output_type": "stream",
     "text": [
      "Processing: s-1-12論語選讀-01課本-page_028.pdf\n",
      "Processing: s-1-12論語選讀-01課本-page_029.pdf\n",
      "Processing: s-1-12論語選讀-01課本-page_030.pdf\n",
      "Processing: s-1-12論語選讀-01課本-page_031.pdf\n",
      "Processing: s-1-12論語選讀-01課本-page_032.pdf\n",
      "Processing: s-1-12論語選讀-01課本-page_033.pdf\n",
      "Processing: s-1-12論語選讀-01課本-page_034.pdf\n",
      "Processing: s-1-12論語選讀-01課本-page_035.pdf\n",
      "Processing: s-1-12論語選讀-01課本-page_036.pdf\n",
      "Processing: s-1-12論語選讀-01課本-page_037.pdf\n",
      "Processing: s-1-12論語選讀-01課本-page_038.pdf\n",
      "Processing: s-1-12論語選讀-01課本-page_039.pdf\n"
     ]
    },
    {
     "name": "stderr",
     "output_type": "stream",
     "text": [
      "Processing book1:  40%|████      | 86/213 [00:28<01:07,  1.89it/s] "
     ]
    },
    {
     "name": "stdout",
     "output_type": "stream",
     "text": [
      "Processing: s-1-12論語選讀-01課本-page_040.pdf\n"
     ]
    },
    {
     "name": "stderr",
     "output_type": "stream",
     "text": [
      "Processing book1:  41%|████      | 87/213 [00:43<01:52,  1.12it/s]"
     ]
    },
    {
     "name": "stdout",
     "output_type": "stream",
     "text": [
      "Processing: s-1-12論語選讀-01課本-page_041.pdf\n"
     ]
    },
    {
     "name": "stderr",
     "output_type": "stream",
     "text": [
      "Processing book1:  41%|████▏     | 88/213 [00:57<02:50,  1.36s/it]"
     ]
    },
    {
     "name": "stdout",
     "output_type": "stream",
     "text": [
      "Processing: s-1-12論語選讀-01課本-page_042.pdf\n"
     ]
    },
    {
     "name": "stderr",
     "output_type": "stream",
     "text": [
      "Processing book1:  42%|████▏     | 89/213 [01:25<05:28,  2.65s/it]"
     ]
    },
    {
     "name": "stdout",
     "output_type": "stream",
     "text": [
      "Processing: s-1-12論語選讀-01課本-page_043.pdf\n"
     ]
    },
    {
     "name": "stderr",
     "output_type": "stream",
     "text": [
      "Processing book1:  42%|████▏     | 90/213 [01:40<07:01,  3.43s/it]"
     ]
    },
    {
     "name": "stdout",
     "output_type": "stream",
     "text": [
      "Processing: s-1-12論語選讀-01課本-page_044.pdf\n"
     ]
    },
    {
     "name": "stderr",
     "output_type": "stream",
     "text": [
      "Processing book1:  42%|████▏     | 90/213 [01:47<02:27,  1.20s/it]\n"
     ]
    },
    {
     "ename": "KeyboardInterrupt",
     "evalue": "",
     "output_type": "error",
     "traceback": [
      "\u001b[0;31m---------------------------------------------------------------------------\u001b[0m",
      "\u001b[0;31mKeyboardInterrupt\u001b[0m                         Traceback (most recent call last)",
      "Cell \u001b[0;32mIn[45], line 23\u001b[0m\n\u001b[1;32m     21\u001b[0m \u001b[38;5;28mprint\u001b[39m(\u001b[38;5;124m\"\u001b[39m\u001b[38;5;124mProcessing:\u001b[39m\u001b[38;5;124m\"\u001b[39m , filename)\n\u001b[1;32m     22\u001b[0m pdf \u001b[38;5;241m=\u001b[39m PDFQuery(filename,parse_tree_cacher\u001b[38;5;241m=\u001b[39mFileCache(\u001b[38;5;124m\"\u001b[39m\u001b[38;5;124m/tmp/\u001b[39m\u001b[38;5;124m\"\u001b[39m))\n\u001b[0;32m---> 23\u001b[0m \u001b[43mpdf\u001b[49m\u001b[38;5;241;43m.\u001b[39;49m\u001b[43mload\u001b[49m\u001b[43m(\u001b[49m\u001b[43m)\u001b[49m\n\u001b[1;32m     24\u001b[0m text_elements \u001b[38;5;241m=\u001b[39m pdf\u001b[38;5;241m.\u001b[39mpq(\u001b[38;5;124m'\u001b[39m\u001b[38;5;124mLTTextLineHorizontal\u001b[39m\u001b[38;5;124m'\u001b[39m)\n\u001b[1;32m     25\u001b[0m text \u001b[38;5;241m=\u001b[39m \u001b[38;5;124m\"\u001b[39m\u001b[38;5;124m\"\u001b[39m\u001b[38;5;241m.\u001b[39mjoin([t\u001b[38;5;241m.\u001b[39mtext \u001b[38;5;28;01mif\u001b[39;00m t\u001b[38;5;241m.\u001b[39mtext \u001b[38;5;129;01mis\u001b[39;00m \u001b[38;5;129;01mnot\u001b[39;00m \u001b[38;5;28;01mNone\u001b[39;00m \u001b[38;5;28;01melse\u001b[39;00m \u001b[38;5;124m\"\u001b[39m\u001b[38;5;124m\"\u001b[39m \u001b[38;5;28;01mfor\u001b[39;00m t \u001b[38;5;129;01min\u001b[39;00m text_elements])\n",
      "File \u001b[0;32m~/miniforge3/lib/python3.10/site-packages/pdfquery/pdfquery.py:385\u001b[0m, in \u001b[0;36mPDFQuery.load\u001b[0;34m(self, *page_numbers)\u001b[0m\n\u001b[1;32m    367\u001b[0m \u001b[38;5;28;01mdef\u001b[39;00m \u001b[38;5;21mload\u001b[39m(\u001b[38;5;28mself\u001b[39m, \u001b[38;5;241m*\u001b[39mpage_numbers):\n\u001b[1;32m    368\u001b[0m \u001b[38;5;250m    \u001b[39m\u001b[38;5;124;03m\"\"\"\u001b[39;00m\n\u001b[1;32m    369\u001b[0m \u001b[38;5;124;03m    Load etree and pyquery object for entire document, or given page\u001b[39;00m\n\u001b[1;32m    370\u001b[0m \u001b[38;5;124;03m    numbers (ints or lists). After this is called, objects are\u001b[39;00m\n\u001b[0;32m   (...)\u001b[0m\n\u001b[1;32m    383\u001b[0m \u001b[38;5;124;03m    [<LTPage>, <LTPage>]\u001b[39;00m\n\u001b[1;32m    384\u001b[0m \u001b[38;5;124;03m    \"\"\"\u001b[39;00m\n\u001b[0;32m--> 385\u001b[0m     \u001b[38;5;28mself\u001b[39m\u001b[38;5;241m.\u001b[39mtree \u001b[38;5;241m=\u001b[39m \u001b[38;5;28;43mself\u001b[39;49m\u001b[38;5;241;43m.\u001b[39;49m\u001b[43mget_tree\u001b[49m\u001b[43m(\u001b[49m\u001b[38;5;241;43m*\u001b[39;49m\u001b[43m_flatten\u001b[49m\u001b[43m(\u001b[49m\u001b[43mpage_numbers\u001b[49m\u001b[43m)\u001b[49m\u001b[43m)\u001b[49m\n\u001b[1;32m    386\u001b[0m     \u001b[38;5;28mself\u001b[39m\u001b[38;5;241m.\u001b[39mpq \u001b[38;5;241m=\u001b[39m \u001b[38;5;28mself\u001b[39m\u001b[38;5;241m.\u001b[39mget_pyquery(\u001b[38;5;28mself\u001b[39m\u001b[38;5;241m.\u001b[39mtree)\n",
      "File \u001b[0;32m~/miniforge3/lib/python3.10/site-packages/pdfquery/pdfquery.py:488\u001b[0m, in \u001b[0;36mPDFQuery.get_tree\u001b[0;34m(self, *page_numbers)\u001b[0m\n\u001b[1;32m    486\u001b[0m     pages \u001b[38;5;241m=\u001b[39m \u001b[38;5;28menumerate\u001b[39m(\u001b[38;5;28mself\u001b[39m\u001b[38;5;241m.\u001b[39mget_layouts())\n\u001b[1;32m    487\u001b[0m \u001b[38;5;28;01mfor\u001b[39;00m n, page \u001b[38;5;129;01min\u001b[39;00m pages:\n\u001b[0;32m--> 488\u001b[0m     page \u001b[38;5;241m=\u001b[39m \u001b[38;5;28;43mself\u001b[39;49m\u001b[38;5;241;43m.\u001b[39;49m\u001b[43m_xmlize\u001b[49m\u001b[43m(\u001b[49m\u001b[43mpage\u001b[49m\u001b[43m)\u001b[49m\n\u001b[1;32m    489\u001b[0m     page\u001b[38;5;241m.\u001b[39mset(\u001b[38;5;124m'\u001b[39m\u001b[38;5;124mpage_index\u001b[39m\u001b[38;5;124m'\u001b[39m, obj_to_string(n))\n\u001b[1;32m    490\u001b[0m     page\u001b[38;5;241m.\u001b[39mset(\u001b[38;5;124m'\u001b[39m\u001b[38;5;124mpage_label\u001b[39m\u001b[38;5;124m'\u001b[39m, \u001b[38;5;28mself\u001b[39m\u001b[38;5;241m.\u001b[39mdoc\u001b[38;5;241m.\u001b[39mget_page_number(n))\n",
      "File \u001b[0;32m~/miniforge3/lib/python3.10/site-packages/pdfquery/pdfquery.py:553\u001b[0m, in \u001b[0;36mPDFQuery._xmlize\u001b[0;34m(self, node, root)\u001b[0m\n\u001b[1;32m    551\u001b[0m last \u001b[38;5;241m=\u001b[39m \u001b[38;5;28;01mNone\u001b[39;00m\n\u001b[1;32m    552\u001b[0m \u001b[38;5;28;01mfor\u001b[39;00m child \u001b[38;5;129;01min\u001b[39;00m node:\n\u001b[0;32m--> 553\u001b[0m     child \u001b[38;5;241m=\u001b[39m \u001b[38;5;28;43mself\u001b[39;49m\u001b[38;5;241;43m.\u001b[39;49m\u001b[43m_xmlize\u001b[49m\u001b[43m(\u001b[49m\u001b[43mchild\u001b[49m\u001b[43m,\u001b[49m\u001b[43m \u001b[49m\u001b[43mroot\u001b[49m\u001b[43m)\u001b[49m\n\u001b[1;32m    554\u001b[0m     \u001b[38;5;28;01mif\u001b[39;00m \u001b[38;5;28mself\u001b[39m\u001b[38;5;241m.\u001b[39mmerge_tags \u001b[38;5;129;01mand\u001b[39;00m child\u001b[38;5;241m.\u001b[39mtag \u001b[38;5;129;01min\u001b[39;00m \u001b[38;5;28mself\u001b[39m\u001b[38;5;241m.\u001b[39mmerge_tags:\n\u001b[1;32m    555\u001b[0m         \u001b[38;5;28;01mif\u001b[39;00m branch\u001b[38;5;241m.\u001b[39mtext \u001b[38;5;129;01mand\u001b[39;00m child\u001b[38;5;241m.\u001b[39mtext \u001b[38;5;129;01min\u001b[39;00m branch\u001b[38;5;241m.\u001b[39mtext:\n",
      "File \u001b[0;32m~/miniforge3/lib/python3.10/site-packages/pdfquery/pdfquery.py:566\u001b[0m, in \u001b[0;36mPDFQuery._xmlize\u001b[0;34m(self, node, root)\u001b[0m\n\u001b[1;32m    564\u001b[0m \u001b[38;5;66;03m# sort children by bounding boxes\u001b[39;00m\n\u001b[1;32m    565\u001b[0m \u001b[38;5;28;01mif\u001b[39;00m \u001b[38;5;28mself\u001b[39m\u001b[38;5;241m.\u001b[39mresort:\n\u001b[0;32m--> 566\u001b[0m     \u001b[43m_append_sorted\u001b[49m\u001b[43m(\u001b[49m\u001b[43mroot\u001b[49m\u001b[43m,\u001b[49m\u001b[43m \u001b[49m\u001b[43mchild\u001b[49m\u001b[43m,\u001b[49m\u001b[43m \u001b[49m\u001b[43m_comp_bbox\u001b[49m\u001b[43m)\u001b[49m\n\u001b[1;32m    567\u001b[0m \u001b[38;5;28;01melse\u001b[39;00m:\n\u001b[1;32m    568\u001b[0m     branch\u001b[38;5;241m.\u001b[39mappend(child)\n",
      "File \u001b[0;32m~/miniforge3/lib/python3.10/site-packages/pdfquery/pdfquery.py:54\u001b[0m, in \u001b[0;36m_append_sorted\u001b[0;34m(root, el, comparator)\u001b[0m\n\u001b[1;32m     51\u001b[0m rel \u001b[38;5;241m=\u001b[39m comparator(el, child)\n\u001b[1;32m     52\u001b[0m \u001b[38;5;28;01mif\u001b[39;00m rel \u001b[38;5;241m>\u001b[39m \u001b[38;5;241m0\u001b[39m:\n\u001b[1;32m     53\u001b[0m     \u001b[38;5;66;03m# el fits inside child, add to child and return\u001b[39;00m\n\u001b[0;32m---> 54\u001b[0m     \u001b[43m_append_sorted\u001b[49m\u001b[43m(\u001b[49m\u001b[43mchild\u001b[49m\u001b[43m,\u001b[49m\u001b[43m \u001b[49m\u001b[43mel\u001b[49m\u001b[43m,\u001b[49m\u001b[43m \u001b[49m\u001b[43mcomparator\u001b[49m\u001b[43m)\u001b[49m\n\u001b[1;32m     55\u001b[0m     \u001b[38;5;28;01mreturn\u001b[39;00m\n\u001b[1;32m     56\u001b[0m \u001b[38;5;28;01mif\u001b[39;00m rel \u001b[38;5;241m<\u001b[39m \u001b[38;5;241m0\u001b[39m:\n\u001b[1;32m     57\u001b[0m     \u001b[38;5;66;03m# child fits inside el, move child into el (may move more than one)\u001b[39;00m\n",
      "File \u001b[0;32m~/miniforge3/lib/python3.10/site-packages/pdfquery/pdfquery.py:51\u001b[0m, in \u001b[0;36m_append_sorted\u001b[0;34m(root, el, comparator)\u001b[0m\n\u001b[1;32m     46\u001b[0m \u001b[38;5;250m\u001b[39m\u001b[38;5;124;03m\"\"\" Add el as a child of root, or as a child of one of root's children.\u001b[39;00m\n\u001b[1;32m     47\u001b[0m \u001b[38;5;124;03mComparator is a function(a, b) returning > 0 if a is a child of b, < 0 if\u001b[39;00m\n\u001b[1;32m     48\u001b[0m \u001b[38;5;124;03mb is a child of a, 0 if neither.\u001b[39;00m\n\u001b[1;32m     49\u001b[0m \u001b[38;5;124;03m\"\"\"\u001b[39;00m\n\u001b[1;32m     50\u001b[0m \u001b[38;5;28;01mfor\u001b[39;00m child \u001b[38;5;129;01min\u001b[39;00m root:\n\u001b[0;32m---> 51\u001b[0m     rel \u001b[38;5;241m=\u001b[39m \u001b[43mcomparator\u001b[49m\u001b[43m(\u001b[49m\u001b[43mel\u001b[49m\u001b[43m,\u001b[49m\u001b[43m \u001b[49m\u001b[43mchild\u001b[49m\u001b[43m)\u001b[49m\n\u001b[1;32m     52\u001b[0m     \u001b[38;5;28;01mif\u001b[39;00m rel \u001b[38;5;241m>\u001b[39m \u001b[38;5;241m0\u001b[39m:\n\u001b[1;32m     53\u001b[0m         \u001b[38;5;66;03m# el fits inside child, add to child and return\u001b[39;00m\n\u001b[1;32m     54\u001b[0m         _append_sorted(child, el, comparator)\n",
      "File \u001b[0;32m~/miniforge3/lib/python3.10/site-packages/pdfquery/pdfquery.py:79\u001b[0m, in \u001b[0;36m_comp_bbox\u001b[0;34m(el, el2)\u001b[0m\n\u001b[1;32m     76\u001b[0m \u001b[38;5;66;03m# only compare if both elements have x/y coordinates\u001b[39;00m\n\u001b[1;32m     77\u001b[0m \u001b[38;5;28;01mif\u001b[39;00m _comp_bbox_keys_required \u001b[38;5;241m<\u001b[39m\u001b[38;5;241m=\u001b[39m \u001b[38;5;28mset\u001b[39m(el\u001b[38;5;241m.\u001b[39mkeys()) \u001b[38;5;129;01mand\u001b[39;00m \\\n\u001b[1;32m     78\u001b[0m         _comp_bbox_keys_required \u001b[38;5;241m<\u001b[39m\u001b[38;5;241m=\u001b[39m \u001b[38;5;28mset\u001b[39m(el2\u001b[38;5;241m.\u001b[39mkeys()):\n\u001b[0;32m---> 79\u001b[0m     \u001b[38;5;28;01mif\u001b[39;00m \u001b[43m_box_in_box\u001b[49m\u001b[43m(\u001b[49m\u001b[43mel2\u001b[49m\u001b[43m,\u001b[49m\u001b[43m \u001b[49m\u001b[43mel\u001b[49m\u001b[43m)\u001b[49m:\n\u001b[1;32m     80\u001b[0m         \u001b[38;5;28;01mreturn\u001b[39;00m \u001b[38;5;241m1\u001b[39m\n\u001b[1;32m     81\u001b[0m     \u001b[38;5;28;01mif\u001b[39;00m _box_in_box(el, el2):\n",
      "File \u001b[0;32m~/miniforge3/lib/python3.10/site-packages/pdfquery/pdfquery.py:66\u001b[0m, in \u001b[0;36m_box_in_box\u001b[0;34m(el, child)\u001b[0m\n\u001b[1;32m     63\u001b[0m \u001b[38;5;28;01mdef\u001b[39;00m \u001b[38;5;21m_box_in_box\u001b[39m(el, child):\n\u001b[1;32m     64\u001b[0m \u001b[38;5;250m    \u001b[39m\u001b[38;5;124;03m\"\"\" Return True if child is contained within el. \"\"\"\u001b[39;00m\n\u001b[1;32m     65\u001b[0m     \u001b[38;5;28;01mreturn\u001b[39;00m \u001b[38;5;28mall\u001b[39m([\n\u001b[0;32m---> 66\u001b[0m         \u001b[38;5;28mfloat\u001b[39m(el\u001b[38;5;241m.\u001b[39mget(\u001b[38;5;124m'\u001b[39m\u001b[38;5;124mx0\u001b[39m\u001b[38;5;124m'\u001b[39m)) \u001b[38;5;241m<\u001b[39m\u001b[38;5;241m=\u001b[39m \u001b[38;5;28;43mfloat\u001b[39;49m\u001b[43m(\u001b[49m\u001b[43mchild\u001b[49m\u001b[38;5;241;43m.\u001b[39;49m\u001b[43mget\u001b[49m\u001b[43m(\u001b[49m\u001b[38;5;124;43m'\u001b[39;49m\u001b[38;5;124;43mx0\u001b[39;49m\u001b[38;5;124;43m'\u001b[39;49m\u001b[43m)\u001b[49m\u001b[43m)\u001b[49m,\n\u001b[1;32m     67\u001b[0m         \u001b[38;5;28mfloat\u001b[39m(el\u001b[38;5;241m.\u001b[39mget(\u001b[38;5;124m'\u001b[39m\u001b[38;5;124mx1\u001b[39m\u001b[38;5;124m'\u001b[39m)) \u001b[38;5;241m>\u001b[39m\u001b[38;5;241m=\u001b[39m \u001b[38;5;28mfloat\u001b[39m(child\u001b[38;5;241m.\u001b[39mget(\u001b[38;5;124m'\u001b[39m\u001b[38;5;124mx1\u001b[39m\u001b[38;5;124m'\u001b[39m)),\n\u001b[1;32m     68\u001b[0m         \u001b[38;5;28mfloat\u001b[39m(el\u001b[38;5;241m.\u001b[39mget(\u001b[38;5;124m'\u001b[39m\u001b[38;5;124my0\u001b[39m\u001b[38;5;124m'\u001b[39m)) \u001b[38;5;241m<\u001b[39m\u001b[38;5;241m=\u001b[39m \u001b[38;5;28mfloat\u001b[39m(child\u001b[38;5;241m.\u001b[39mget(\u001b[38;5;124m'\u001b[39m\u001b[38;5;124my0\u001b[39m\u001b[38;5;124m'\u001b[39m)),\n\u001b[1;32m     69\u001b[0m         \u001b[38;5;28mfloat\u001b[39m(el\u001b[38;5;241m.\u001b[39mget(\u001b[38;5;124m'\u001b[39m\u001b[38;5;124my1\u001b[39m\u001b[38;5;124m'\u001b[39m)) \u001b[38;5;241m>\u001b[39m\u001b[38;5;241m=\u001b[39m \u001b[38;5;28mfloat\u001b[39m(child\u001b[38;5;241m.\u001b[39mget(\u001b[38;5;124m'\u001b[39m\u001b[38;5;124my1\u001b[39m\u001b[38;5;124m'\u001b[39m)),\n\u001b[1;32m     70\u001b[0m     ])\n",
      "\u001b[0;31mKeyboardInterrupt\u001b[0m: "
     ]
    }
   ],
   "source": [
    "from pdfquery import PDFQuery\n",
    "from pdfquery.cache import FileCache\n",
    "import re\n",
    "from tqdm import tqdm\n",
    "\n",
    "files_by_book = [[] for _ in range(5)]\n",
    "for filename in files:\n",
    "    try:\n",
    "        book_num = int(filename[2])\n",
    "        files_by_book[book_num-1].append(filename)\n",
    "    except:\n",
    "        pass\n",
    "\n",
    "\n",
    "for index , bookfiles in enumerate(files_by_book):\n",
    "    sorted_bookfiles = sorted(bookfiles)\n",
    "    book_content = []\n",
    "    for filename in tqdm(sorted_bookfiles , desc=f\"Processing book{index+1}\"):\n",
    "        if not filename.endswith(\".pdf\") or not filename.startswith(\"s\"):\n",
    "            continue\n",
    "        pdf = PDFQuery(filename,parse_tree_cacher=FileCache(\"/tmp/\"))\n",
    "        pdf.load()\n",
    "        text_elements = pdf.pq('LTTextLineHorizontal')\n",
    "        text = \"\".join([t.text if t.text is not None else \"\" for t in text_elements])\n",
    "        text = text.replace(\"　\" , \"\")\n",
    "        text = text.replace(\"\u0001\" , \"\")\n",
    "        text = text.replace(\"\\n\" , \"\")\n",
    "        text = text.replace(\" \" , \"\")\n",
    "        text = text.replace(\"﹂\",\"\")\n",
    "        text = text.replace(\"﹁\",\"\")\n",
    "        text = text.replace(\"︶\" , \"\")\n",
    "        text = text.replace(\"︵\" , \"\")\n",
    "        text = text.replace(\"︻\" , \"\")\n",
    "        text = text.replace(\"︼\" , \"\")\n",
    "        book_content.append(text)\n",
    "    with open(f\"{index+1}.txt\",\"w+\") as writer:\n",
    "        writer.write(\"\\n\".join(book_content))\n",
    "\n",
    "\n"
   ]
  }
 ],
 "metadata": {
  "kernelspec": {
   "display_name": "base",
   "language": "python",
   "name": "python3"
  },
  "language_info": {
   "codemirror_mode": {
    "name": "ipython",
    "version": 3
   },
   "file_extension": ".py",
   "mimetype": "text/x-python",
   "name": "python",
   "nbconvert_exporter": "python",
   "pygments_lexer": "ipython3",
   "version": "3.10.14"
  }
 },
 "nbformat": 4,
 "nbformat_minor": 2
}
