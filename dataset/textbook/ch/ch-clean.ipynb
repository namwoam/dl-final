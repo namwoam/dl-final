{
 "cells": [
  {
   "cell_type": "markdown",
   "metadata": {},
   "source": [
    "# Data cleaning for chinese continuous-pretraining data"
   ]
  },
  {
   "cell_type": "code",
   "execution_count": 60,
   "metadata": {},
   "outputs": [
    {
     "name": "stdout",
     "output_type": "stream",
     "text": [
      "995\n"
     ]
    }
   ],
   "source": [
    "from os import listdir\n",
    "from os.path import isfile, join\n",
    "files = [f for f in listdir(\"./\") if isfile(join(\"./\", f))]\n",
    "print(len(files))"
   ]
  },
  {
   "cell_type": "code",
   "execution_count": 63,
   "metadata": {},
   "outputs": [
    {
     "name": "stderr",
     "output_type": "stream",
     "text": [
      "Processing book1: 100%|██████████| 213/213 [01:42<00:00,  2.08it/s]\n",
      "Processing book2: 100%|██████████| 177/177 [01:19<00:00,  2.23it/s]\n",
      "Processing book3: 100%|██████████| 204/204 [01:25<00:00,  2.37it/s]\n",
      "Processing book4: 100%|██████████| 191/191 [01:43<00:00,  1.84it/s]\n",
      "Processing book5: 100%|██████████| 182/182 [00:21<00:00,  8.57it/s]\n"
     ]
    }
   ],
   "source": [
    "from pypdf import PdfReader\n",
    "import re\n",
    "from tqdm import tqdm\n",
    "\n",
    "files_by_book = [[] for _ in range(5)]\n",
    "for filename in files:\n",
    "    try:\n",
    "        book_num = int(filename[2])\n",
    "        files_by_book[book_num-1].append(filename)\n",
    "    except:\n",
    "        pass\n",
    "\n",
    "\n",
    "for index , bookfiles in enumerate(files_by_book):\n",
    "    sorted_bookfiles = sorted(bookfiles)\n",
    "    book_content = []\n",
    "    for filename in tqdm(sorted_bookfiles , desc=f\"Processing book{index+1}\"):\n",
    "        if not filename.endswith(\".pdf\") or not filename.startswith(\"s\"):\n",
    "            continue\n",
    "        reader = PdfReader(filename)\n",
    "        page = reader.pages[0]\n",
    "        text = page.extract_text(orientations=(0,90,180,270),space_width=10)\n",
    "        if text is None:\n",
    "            continue\n",
    "        text = text.replace(\"�\" ,\"\")\n",
    "        text = text.replace(\"　\" , \"\")\n",
    "        text = text.replace(\"\u0001\" , \"\")\n",
    "        text = text.replace(\"\\n\" , \"\")\n",
    "        text = text.replace(\" \" , \"\")\n",
    "        text = text.replace(\"﹂\",\"\")\n",
    "        text = text.replace(\"﹁\",\"\")\n",
    "        text = text.replace(\"︶\" , \"\")\n",
    "        text = text.replace(\"︵\" , \"\")\n",
    "        text = text.replace(\"︻\" , \"\")\n",
    "        text = text.replace(\"︼\" , \"\")\n",
    "        book_content.append(text)\n",
    "    with open(f\"{index+1}.txt\",\"w+\") as writer:\n",
    "        writer.write(\"\\n\".join(book_content))\n",
    "\n",
    "\n"
   ]
  }
 ],
 "metadata": {
  "kernelspec": {
   "display_name": "base",
   "language": "python",
   "name": "python3"
  },
  "language_info": {
   "codemirror_mode": {
    "name": "ipython",
    "version": 3
   },
   "file_extension": ".py",
   "mimetype": "text/x-python",
   "name": "python",
   "nbconvert_exporter": "python",
   "pygments_lexer": "ipython3",
   "version": "3.10.14"
  }
 },
 "nbformat": 4,
 "nbformat_minor": 2
}
