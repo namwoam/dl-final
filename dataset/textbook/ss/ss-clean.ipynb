{
 "cells": [
  {
   "cell_type": "markdown",
   "metadata": {},
   "source": [
    "# Data cleaning for chinese continuous-pretraining data"
   ]
  },
  {
   "cell_type": "code",
   "execution_count": 1,
   "metadata": {},
   "outputs": [
    {
     "name": "stdout",
     "output_type": "stream",
     "text": [
      "['1-01.pdf', '1-02.pdf', '1-03.pdf', '1-04.pdf', '1-05.pdf', '1-06.pdf', '1-07.pdf', '1-08.pdf', '2-01.pdf', '2-02.pdf', '2-03.pdf', '2-04.pdf', '2-05.pdf', '2-06.pdf', '2-07.pdf', '2-08.pdf', '3-01.pdf', '3-02.pdf', '3-03.pdf', '3-04.pdf', '3-05.pdf', '3-06.pdf', '3-07.pdf', '3-08.pdf', '4-01.pdf', '4-02.pdf', '4-03.pdf', '4-04.pdf', '4-05.pdf', '4-06.pdf', '4-07.pdf', '4-08.pdf', '4-09.pdf', '5-01.pdf', '5-02.pdf', '5-03.pdf', '5-04.pdf', '5-05.pdf', '5-06.pdf', '5-07.pdf', '5-08.pdf', '5-09.pdf', '5-10.pdf', '6-01.pdf', '6-02.pdf', '6-03.pdf', '6-04.pdf', '6-05.pdf', '6-06.pdf', '6-07.pdf', '6-08.pdf', '6-09.pdf', '7-01.pdf', '7-02.pdf', '7-03.pdf', '7-04.pdf', '7-05.pdf', '7-06.pdf', '7-07.pdf', '7-08.pdf', '7-09.pdf', '8-01.pdf', '8-02.pdf', '8-03.pdf', '8-04.pdf', '8-05.pdf', '8-06.pdf', '8-07.pdf', '8-08.pdf', '8-09.pdf', '9-01.pdf', '9-02.pdf', '9-03.pdf', '9-04.pdf', '9-05.pdf', '9-06.pdf', '9-07.pdf', '9-08.pdf', 'ss-clean.ipynb']\n"
     ]
    }
   ],
   "source": [
    "from os import listdir\n",
    "from os.path import isfile, join\n",
    "import re\n",
    "files = [f for f in listdir(\"./\") if isfile(join(\"./\", f))]\n",
    "files = sorted(files)\n",
    "print(files)\n",
    "\n",
    "# 1~3 for history, 4~6 for geography, 7~9 for civil studies"
   ]
  },
  {
   "cell_type": "code",
   "execution_count": 2,
   "metadata": {},
   "outputs": [
    {
     "name": "stderr",
     "output_type": "stream",
     "text": [
      "Processing book1:   0%|          | 0/79 [00:00<?, ?it/s]"
     ]
    },
    {
     "name": "stderr",
     "output_type": "stream",
     "text": [
      "Processing book1: 100%|██████████| 79/79 [00:03<00:00, 22.64it/s]\n",
      "Processing book2: 100%|██████████| 79/79 [00:04<00:00, 18.99it/s]\n",
      "Processing book3: 100%|██████████| 79/79 [00:10<00:00,  7.61it/s]\n",
      "Processing book4: 100%|██████████| 79/79 [00:10<00:00,  7.24it/s] \n",
      "Processing book5: 100%|██████████| 79/79 [00:10<00:00,  7.34it/s]\n",
      "Processing book6: 100%|██████████| 79/79 [00:14<00:00,  5.35it/s]\n",
      "Processing book7: 100%|██████████| 79/79 [00:01<00:00, 75.01it/s] \n",
      "Processing book8: 100%|██████████| 79/79 [00:00<00:00, 86.69it/s] \n",
      "Processing book9: 100%|██████████| 79/79 [00:01<00:00, 78.61it/s] \n"
     ]
    }
   ],
   "source": [
    "from tqdm import tqdm\n",
    "from tika import parser\n",
    "import tika\n",
    "tika.initVM()\n",
    "\n",
    "\n",
    "\n",
    "for index in range(1,10):\n",
    "    \n",
    "    book_content = []\n",
    "    for filename in tqdm(files, desc=f\"Processing book{index}\"):\n",
    "        if not filename.endswith(\".pdf\") or not filename.startswith(str(index)):\n",
    "            continue\n",
    "        parsed = parser.from_file(filename)\n",
    "        text = parsed[\"content\"]\n",
    "        if text is None:\n",
    "            continue\n",
    "        text = text.replace(\"�\", \"\")\n",
    "        text = text.replace(\"\\n\", \"\")\n",
    "        text = text.replace(\"　\", \"\")\n",
    "        text = text.replace(\"\u0001\", \"\")\n",
    "        text = text.replace(\" \", \"\")\n",
    "        text = text.replace(\"﹂\", \"\")\n",
    "        text = text.replace(\"﹁\", \"\")\n",
    "        text = text.replace(\"︶\", \"\")\n",
    "        text = text.replace(\"︵\", \"\")\n",
    "        text = text.replace(\"︻\", \"\")\n",
    "        text = text.replace(\"︼\", \"\")\n",
    "        text = re.sub(r\"https?:[^\\s]+\", '', text)\n",
    "        book_content.append(text)\n",
    "    with open(f\"{index}.txt\", \"w+\") as writer:\n",
    "        writer.write(\"\\n\".join(book_content))"
   ]
  }
 ],
 "metadata": {
  "kernelspec": {
   "display_name": "base",
   "language": "python",
   "name": "python3"
  },
  "language_info": {
   "codemirror_mode": {
    "name": "ipython",
    "version": 3
   },
   "file_extension": ".py",
   "mimetype": "text/x-python",
   "name": "python",
   "nbconvert_exporter": "python",
   "pygments_lexer": "ipython3",
   "version": "3.10.14"
  }
 },
 "nbformat": 4,
 "nbformat_minor": 2
}
