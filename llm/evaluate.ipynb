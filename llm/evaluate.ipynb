{
 "cells": [
  {
   "cell_type": "markdown",
   "metadata": {},
   "source": [
    "# Evaluating GSAT Score on Multiple Chinese LLM"
   ]
  },
  {
   "cell_type": "code",
   "execution_count": 11,
   "metadata": {},
   "outputs": [],
   "source": [
    "import pandas as pd\n",
    "import matplotlib.pyplot as plt\n",
    "import matplotlib.patches as mpatches"
   ]
  },
  {
   "cell_type": "code",
   "execution_count": 12,
   "metadata": {},
   "outputs": [
    {
     "data": {
      "text/html": [
       "<div>\n",
       "<style scoped>\n",
       "    .dataframe tbody tr th:only-of-type {\n",
       "        vertical-align: middle;\n",
       "    }\n",
       "\n",
       "    .dataframe tbody tr th {\n",
       "        vertical-align: top;\n",
       "    }\n",
       "\n",
       "    .dataframe thead th {\n",
       "        text-align: right;\n",
       "    }\n",
       "</style>\n",
       "<table border=\"1\" class=\"dataframe\">\n",
       "  <thead>\n",
       "    <tr style=\"text-align: right;\">\n",
       "      <th></th>\n",
       "      <th>dataset_name</th>\n",
       "      <th>path</th>\n",
       "      <th>1_tile</th>\n",
       "      <th>2_tile</th>\n",
       "      <th>3_tile</th>\n",
       "      <th>4_tile</th>\n",
       "      <th>5_tile</th>\n",
       "    </tr>\n",
       "  </thead>\n",
       "  <tbody>\n",
       "    <tr>\n",
       "      <th>0</th>\n",
       "      <td>113-ch</td>\n",
       "      <td>../dataset/gsat/113_chinese.csv</td>\n",
       "      <td>63.48</td>\n",
       "      <td>58.19</td>\n",
       "      <td>52.90</td>\n",
       "      <td>42.32</td>\n",
       "      <td>37.03</td>\n",
       "    </tr>\n",
       "    <tr>\n",
       "      <th>1</th>\n",
       "      <td>112-ch</td>\n",
       "      <td>../dataset/gsat/112_chinese.csv</td>\n",
       "      <td>62.63</td>\n",
       "      <td>57.41</td>\n",
       "      <td>52.19</td>\n",
       "      <td>41.75</td>\n",
       "      <td>36.54</td>\n",
       "    </tr>\n",
       "    <tr>\n",
       "      <th>2</th>\n",
       "      <td>111-ch</td>\n",
       "      <td>../dataset/gsat/111_chinese.csv</td>\n",
       "      <td>64.08</td>\n",
       "      <td>58.74</td>\n",
       "      <td>48.06</td>\n",
       "      <td>42.72</td>\n",
       "      <td>32.04</td>\n",
       "    </tr>\n",
       "    <tr>\n",
       "      <th>3</th>\n",
       "      <td>110-ch</td>\n",
       "      <td>../dataset/gsat/110_chinese.csv</td>\n",
       "      <td>64.57</td>\n",
       "      <td>59.19</td>\n",
       "      <td>53.81</td>\n",
       "      <td>43.05</td>\n",
       "      <td>37.67</td>\n",
       "    </tr>\n",
       "    <tr>\n",
       "      <th>4</th>\n",
       "      <td>109-ch</td>\n",
       "      <td>../dataset/gsat/109_chinese.csv</td>\n",
       "      <td>65.65</td>\n",
       "      <td>65.65</td>\n",
       "      <td>54.71</td>\n",
       "      <td>43.77</td>\n",
       "      <td>38.30</td>\n",
       "    </tr>\n",
       "  </tbody>\n",
       "</table>\n",
       "</div>"
      ],
      "text/plain": [
       "  dataset_name                             path  1_tile  2_tile  3_tile  \\\n",
       "0       113-ch  ../dataset/gsat/113_chinese.csv   63.48   58.19   52.90   \n",
       "1       112-ch  ../dataset/gsat/112_chinese.csv   62.63   57.41   52.19   \n",
       "2       111-ch  ../dataset/gsat/111_chinese.csv   64.08   58.74   48.06   \n",
       "3       110-ch  ../dataset/gsat/110_chinese.csv   64.57   59.19   53.81   \n",
       "4       109-ch  ../dataset/gsat/109_chinese.csv   65.65   65.65   54.71   \n",
       "\n",
       "   4_tile  5_tile  \n",
       "0   42.32   37.03  \n",
       "1   41.75   36.54  \n",
       "2   42.72   32.04  \n",
       "3   43.05   37.67  \n",
       "4   43.77   38.30  "
      ]
     },
     "execution_count": 12,
     "metadata": {},
     "output_type": "execute_result"
    }
   ],
   "source": [
    "dataset_df = pd.read_csv(\"./full-dataset-info.csv\")\n",
    "dataset_df.head()"
   ]
  },
  {
   "cell_type": "code",
   "execution_count": 13,
   "metadata": {},
   "outputs": [
    {
     "data": {
      "text/html": [
       "<div>\n",
       "<style scoped>\n",
       "    .dataframe tbody tr th:only-of-type {\n",
       "        vertical-align: middle;\n",
       "    }\n",
       "\n",
       "    .dataframe tbody tr th {\n",
       "        vertical-align: top;\n",
       "    }\n",
       "\n",
       "    .dataframe thead th {\n",
       "        text-align: right;\n",
       "    }\n",
       "</style>\n",
       "<table border=\"1\" class=\"dataframe\">\n",
       "  <thead>\n",
       "    <tr style=\"text-align: right;\">\n",
       "      <th></th>\n",
       "      <th>model</th>\n",
       "      <th>short_name</th>\n",
       "      <th>open</th>\n",
       "      <th>zh-tw</th>\n",
       "    </tr>\n",
       "  </thead>\n",
       "  <tbody>\n",
       "    <tr>\n",
       "      <th>0</th>\n",
       "      <td>ikala/bloom-zh-3b-chat</td>\n",
       "      <td>bloom-3b</td>\n",
       "      <td>True</td>\n",
       "      <td>True</td>\n",
       "    </tr>\n",
       "    <tr>\n",
       "      <th>1</th>\n",
       "      <td>taide/Llama3-TAIDE-LX-8B-Chat-Alpha1</td>\n",
       "      <td>taide-8b</td>\n",
       "      <td>True</td>\n",
       "      <td>True</td>\n",
       "    </tr>\n",
       "    <tr>\n",
       "      <th>2</th>\n",
       "      <td>MediaTek-Research/Breeze-7B-32k-Instruct-v1_0</td>\n",
       "      <td>breeze-7b</td>\n",
       "      <td>True</td>\n",
       "      <td>True</td>\n",
       "    </tr>\n",
       "    <tr>\n",
       "      <th>3</th>\n",
       "      <td>Qwen/Qwen1.5-1.8B-Chat</td>\n",
       "      <td>qwen-1.8b</td>\n",
       "      <td>True</td>\n",
       "      <td>False</td>\n",
       "    </tr>\n",
       "    <tr>\n",
       "      <th>4</th>\n",
       "      <td>Qwen/Qwen1.5-4B-Chat</td>\n",
       "      <td>qwen-4b</td>\n",
       "      <td>True</td>\n",
       "      <td>False</td>\n",
       "    </tr>\n",
       "  </tbody>\n",
       "</table>\n",
       "</div>"
      ],
      "text/plain": [
       "                                           model short_name  open  zh-tw\n",
       "0                         ikala/bloom-zh-3b-chat   bloom-3b  True   True\n",
       "1           taide/Llama3-TAIDE-LX-8B-Chat-Alpha1   taide-8b  True   True\n",
       "2  MediaTek-Research/Breeze-7B-32k-Instruct-v1_0  breeze-7b  True   True\n",
       "3                         Qwen/Qwen1.5-1.8B-Chat  qwen-1.8b  True  False\n",
       "4                           Qwen/Qwen1.5-4B-Chat    qwen-4b  True  False"
      ]
     },
     "execution_count": 13,
     "metadata": {},
     "output_type": "execute_result"
    }
   ],
   "source": [
    "model_df = pd.read_csv(\"./full-model-info.csv\")\n",
    "model_df.head()"
   ]
  },
  {
   "cell_type": "code",
   "execution_count": 14,
   "metadata": {},
   "outputs": [
    {
     "data": {
      "text/html": [
       "<div>\n",
       "<style scoped>\n",
       "    .dataframe tbody tr th:only-of-type {\n",
       "        vertical-align: middle;\n",
       "    }\n",
       "\n",
       "    .dataframe tbody tr th {\n",
       "        vertical-align: top;\n",
       "    }\n",
       "\n",
       "    .dataframe thead th {\n",
       "        text-align: right;\n",
       "    }\n",
       "</style>\n",
       "<table border=\"1\" class=\"dataframe\">\n",
       "  <thead>\n",
       "    <tr style=\"text-align: right;\">\n",
       "      <th></th>\n",
       "      <th>dataset_name</th>\n",
       "      <th>path</th>\n",
       "      <th>1_tile</th>\n",
       "      <th>2_tile</th>\n",
       "      <th>3_tile</th>\n",
       "      <th>4_tile</th>\n",
       "      <th>5_tile</th>\n",
       "    </tr>\n",
       "  </thead>\n",
       "  <tbody>\n",
       "    <tr>\n",
       "      <th>7</th>\n",
       "      <td>111-ns</td>\n",
       "      <td>../dataset/gsat/111_natural_sciences.csv</td>\n",
       "      <td>81.77</td>\n",
       "      <td>69.19</td>\n",
       "      <td>56.61</td>\n",
       "      <td>37.74</td>\n",
       "      <td>25.16</td>\n",
       "    </tr>\n",
       "  </tbody>\n",
       "</table>\n",
       "</div>"
      ],
      "text/plain": [
       "  dataset_name                                      path  1_tile  2_tile  \\\n",
       "7       111-ns  ../dataset/gsat/111_natural_sciences.csv   81.77   69.19   \n",
       "\n",
       "   3_tile  4_tile  5_tile  \n",
       "7   56.61   37.74   25.16  "
      ]
     },
     "execution_count": 14,
     "metadata": {},
     "output_type": "execute_result"
    }
   ],
   "source": [
    "test_name = \"111-ns\"\n",
    "dataset_row = dataset_df[dataset_df[\"dataset_name\"] == test_name]\n",
    "dataset_row"
   ]
  },
  {
   "cell_type": "code",
   "execution_count": 15,
   "metadata": {},
   "outputs": [],
   "source": [
    "scores = []\n",
    "# dataset_df.where(dataset_df[\"dataset_name\"]==test_name)[\"path\"].values[0]\n",
    "for _ , model in model_df.iterrows():\n",
    "    try:\n",
    "        model_test_df = pd.read_csv(f'./{test_name}-result-{model[\"short_name\"]}.csv')\n",
    "        scores.append(model_test_df[\"score\"].sum())\n",
    "    except:\n",
    "        scores.append(0.0)\n",
    "\n",
    "model_df[\"score\"] = scores\n",
    "model_df[\"score\"] /= len(pd.read_csv(dataset_row[\"path\"].values[0]).index)\n",
    "model_df[\"score\"] *= 100\n",
    "model_df = model_df.sort_values([\"score\"])"
   ]
  },
  {
   "cell_type": "code",
   "execution_count": 16,
   "metadata": {},
   "outputs": [
    {
     "data": {
      "text/plain": [
       "<matplotlib.legend.Legend at 0x79ab060e2a70>"
      ]
     },
     "execution_count": 16,
     "metadata": {},
     "output_type": "execute_result"
    },
    {
     "data": {
      "image/png": "[encoded data removed]",
      "text/plain": [
       "<Figure size 1400x600 with 1 Axes>"
      ]
     },
     "metadata": {},
     "output_type": "display_data"
    }
   ],
   "source": [
    "cm = matplotlib.colormaps.get_cmap(\"tab20c\")\n",
    "model_df.plot.bar(x='short_name', y='score', rot=0 , title=f\"Performance on GSAT {test_name}\" , xlabel=\"model\",figsize=(14,6) , color=[cm.colors[12] if model[\"open\"] is False else (cm.colors[9] if model[\"zh-tw\"] is True else cm.colors[6]) for _,  model in model_df.iterrows() ] ,legend = False,ylim = [0,100])\n",
    "plt.axhline(y=dataset_row[\"1_tile\"].values[0],linewidth=1,ls=\"--\" ,color=cm.colors[0], label=\"12th\")\n",
    "plt.axhline(y=dataset_row[\"2_tile\"].values[0],linewidth=1,ls=\"--\" ,color=cm.colors[1],label=\"25th\")\n",
    "plt.axhline(y=dataset_row[\"3_tile\"].values[0],linewidth=1,ls=\"--\" ,color=cm.colors[2], label=\"50th\")\n",
    "plt.axhline(y=dataset_row[\"4_tile\"].values[0],linewidth=1,ls=\"--\" ,color=cm.colors[3], label=\"75th\")\n",
    "plt.axhline(y=dataset_row[\"5_tile\"].values[0],linewidth=1,ls=\"--\" ,color=cm.colors[4], label=\"88th\")\n",
    "\n",
    "tw = mpatches.Patch(color=cm.colors[9], label='Traditional Chinese Model')\n",
    "cn = mpatches.Patch(color=cm.colors[6], label='Simplified Chinese Model')\n",
    "cs = mpatches.Patch(color=cm.colors[12], label='Closed-source Model')\n",
    "plt.legend(handles=[tw , cn , cs])"
   ]
  }
 ],
 "metadata": {
  "kernelspec": {
   "display_name": "base",
   "language": "python",
   "name": "python3"
  },
  "language_info": {
   "codemirror_mode": {
    "name": "ipython",
    "version": 3
   },
   "file_extension": ".py",
   "mimetype": "text/x-python",
   "name": "python",
   "nbconvert_exporter": "python",
   "pygments_lexer": "ipython3",
   "version": "3.10.14"
  }
 },
 "nbformat": 4,
 "nbformat_minor": 2
}
