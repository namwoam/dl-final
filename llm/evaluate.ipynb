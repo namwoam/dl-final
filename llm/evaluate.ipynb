{
 "cells": [
  {
   "cell_type": "markdown",
   "metadata": {},
   "source": [
    "# Evaluating GSAT Score on Multiple Chinese LLM"
   ]
  },
  {
   "cell_type": "code",
   "execution_count": 1,
   "metadata": {},
   "outputs": [],
   "source": [
    "import pandas as pd\n",
    "import matplotlib.pyplot as plt\n",
    "import matplotlib"
   ]
  },
  {
   "cell_type": "code",
   "execution_count": 2,
   "metadata": {},
   "outputs": [
    {
     "data": {
      "text/html": [
       "<div>\n",
       "<style scoped>\n",
       "    .dataframe tbody tr th:only-of-type {\n",
       "        vertical-align: middle;\n",
       "    }\n",
       "\n",
       "    .dataframe tbody tr th {\n",
       "        vertical-align: top;\n",
       "    }\n",
       "\n",
       "    .dataframe thead th {\n",
       "        text-align: right;\n",
       "    }\n",
       "</style>\n",
       "<table border=\"1\" class=\"dataframe\">\n",
       "  <thead>\n",
       "    <tr style=\"text-align: right;\">\n",
       "      <th></th>\n",
       "      <th>model</th>\n",
       "      <th>short_name</th>\n",
       "      <th>result</th>\n",
       "      <th>open</th>\n",
       "      <th>zh-tw</th>\n",
       "    </tr>\n",
       "  </thead>\n",
       "  <tbody>\n",
       "    <tr>\n",
       "      <th>0</th>\n",
       "      <td>ikala/bloom-zh-3b-chat</td>\n",
       "      <td>bloom-3b</td>\n",
       "      <td>112-ch-result-bloom3b.csv</td>\n",
       "      <td>True</td>\n",
       "      <td>True</td>\n",
       "    </tr>\n",
       "    <tr>\n",
       "      <th>1</th>\n",
       "      <td>taide/Llama3-TAIDE-LX-8B-Chat-Alpha1</td>\n",
       "      <td>taide-8b</td>\n",
       "      <td>112-ch-result-taide8b.csv</td>\n",
       "      <td>True</td>\n",
       "      <td>True</td>\n",
       "    </tr>\n",
       "    <tr>\n",
       "      <th>2</th>\n",
       "      <td>MediaTek-Research/Breeze-7B-32k-Instruct-v1_0</td>\n",
       "      <td>breeze-7b</td>\n",
       "      <td>112-ch-result-breeze7b.csv</td>\n",
       "      <td>True</td>\n",
       "      <td>True</td>\n",
       "    </tr>\n",
       "    <tr>\n",
       "      <th>3</th>\n",
       "      <td>Qwen/Qwen1.5-1.8B-Chat</td>\n",
       "      <td>qwen-1.8b</td>\n",
       "      <td>112-ch-result-qwen1.8b.csv</td>\n",
       "      <td>True</td>\n",
       "      <td>False</td>\n",
       "    </tr>\n",
       "    <tr>\n",
       "      <th>4</th>\n",
       "      <td>Qwen/Qwen1.5-4B-Chat</td>\n",
       "      <td>qwen-4b</td>\n",
       "      <td>112-ch-result-qwen4b.csv</td>\n",
       "      <td>True</td>\n",
       "      <td>False</td>\n",
       "    </tr>\n",
       "  </tbody>\n",
       "</table>\n",
       "</div>"
      ],
      "text/plain": [
       "                                           model short_name  \\\n",
       "0                         ikala/bloom-zh-3b-chat   bloom-3b   \n",
       "1           taide/Llama3-TAIDE-LX-8B-Chat-Alpha1   taide-8b   \n",
       "2  MediaTek-Research/Breeze-7B-32k-Instruct-v1_0  breeze-7b   \n",
       "3                         Qwen/Qwen1.5-1.8B-Chat  qwen-1.8b   \n",
       "4                           Qwen/Qwen1.5-4B-Chat    qwen-4b   \n",
       "\n",
       "                       result  open  zh-tw  \n",
       "0   112-ch-result-bloom3b.csv  True   True  \n",
       "1   112-ch-result-taide8b.csv  True   True  \n",
       "2  112-ch-result-breeze7b.csv  True   True  \n",
       "3  112-ch-result-qwen1.8b.csv  True  False  \n",
       "4    112-ch-result-qwen4b.csv  True  False  "
      ]
     },
     "execution_count": 2,
     "metadata": {},
     "output_type": "execute_result"
    }
   ],
   "source": [
    "results = pd.read_csv(\"./results.csv\" , index_col=False)\n",
    "results.head()"
   ]
  },
  {
   "cell_type": "code",
   "execution_count": 3,
   "metadata": {},
   "outputs": [
    {
     "data": {
      "text/html": [
       "<div>\n",
       "<style scoped>\n",
       "    .dataframe tbody tr th:only-of-type {\n",
       "        vertical-align: middle;\n",
       "    }\n",
       "\n",
       "    .dataframe tbody tr th {\n",
       "        vertical-align: top;\n",
       "    }\n",
       "\n",
       "    .dataframe thead th {\n",
       "        text-align: right;\n",
       "    }\n",
       "</style>\n",
       "<table border=\"1\" class=\"dataframe\">\n",
       "  <thead>\n",
       "    <tr style=\"text-align: right;\">\n",
       "      <th></th>\n",
       "      <th>info</th>\n",
       "      <th>answer</th>\n",
       "      <th>explanation</th>\n",
       "      <th>question</th>\n",
       "    </tr>\n",
       "  </thead>\n",
       "  <tbody>\n",
       "    <tr>\n",
       "      <th>0</th>\n",
       "      <td>112年學測-國文科第1題</td>\n",
       "      <td>A</td>\n",
       "      <td>NaN</td>\n",
       "      <td>下列「」內的字，讀音前後相同的是： (A)胡「笳」之拍／僧侶「袈」裟 (C)驀然而「踣」／「...</td>\n",
       "    </tr>\n",
       "    <tr>\n",
       "      <th>1</th>\n",
       "      <td>112年學測-國文科第2題</td>\n",
       "      <td>C</td>\n",
       "      <td>NaN</td>\n",
       "      <td>下列文句，完全沒有錯別字的是： (A)收藏家的稀世珍品樣樣價格不斐 (B)這起工安意外明顯是...</td>\n",
       "    </tr>\n",
       "    <tr>\n",
       "      <th>2</th>\n",
       "      <td>112年學測-國文科第3題</td>\n",
       "      <td>A</td>\n",
       "      <td>NaN</td>\n",
       "      <td>下列文句畫底線處的詞語，運用最適當的是： (A)這宗懸案經專案小組擘肌分理，已掌握部分有利線...</td>\n",
       "    </tr>\n",
       "    <tr>\n",
       "      <th>3</th>\n",
       "      <td>112年學測-國文科第4題</td>\n",
       "      <td>D</td>\n",
       "      <td>NaN</td>\n",
       "      <td>關於表一、表二，最適當的解讀是： 王昌齡 92.73 % (現存275 首詩) 62.64 ...</td>\n",
       "    </tr>\n",
       "    <tr>\n",
       "      <th>4</th>\n",
       "      <td>112年學測-國文科第5題</td>\n",
       "      <td>D</td>\n",
       "      <td>NaN</td>\n",
       "      <td>溝通交涉時，說話者會自居某個角色，或讓受話者處於某個角色，以利達成目的。下列關於甲、乙的解說...</td>\n",
       "    </tr>\n",
       "  </tbody>\n",
       "</table>\n",
       "</div>"
      ],
      "text/plain": [
       "            info answer  explanation  \\\n",
       "0  112年學測-國文科第1題      A          NaN   \n",
       "1  112年學測-國文科第2題      C          NaN   \n",
       "2  112年學測-國文科第3題      A          NaN   \n",
       "3  112年學測-國文科第4題      D          NaN   \n",
       "4  112年學測-國文科第5題      D          NaN   \n",
       "\n",
       "                                            question  \n",
       "0  下列「」內的字，讀音前後相同的是： (A)胡「笳」之拍／僧侶「袈」裟 (C)驀然而「踣」／「...  \n",
       "1  下列文句，完全沒有錯別字的是： (A)收藏家的稀世珍品樣樣價格不斐 (B)這起工安意外明顯是...  \n",
       "2  下列文句畫底線處的詞語，運用最適當的是： (A)這宗懸案經專案小組擘肌分理，已掌握部分有利線...  \n",
       "3  關於表一、表二，最適當的解讀是： 王昌齡 92.73 % (現存275 首詩) 62.64 ...  \n",
       "4  溝通交涉時，說話者會自居某個角色，或讓受話者處於某個角色，以利達成目的。下列關於甲、乙的解說...  "
      ]
     },
     "execution_count": 3,
     "metadata": {},
     "output_type": "execute_result"
    }
   ],
   "source": [
    "test_name = \"112GSAT-Chinese\"\n",
    "questions = pd.read_csv(\"../dataset/chinese/112_chinese.csv\")\n",
    "questions.head()"
   ]
  },
  {
   "cell_type": "code",
   "execution_count": 4,
   "metadata": {},
   "outputs": [],
   "source": [
    "result_dfs = [pd.read_csv(file) for file in results[\"result\"]]\n",
    "scores = [df[\"score\"].sum() for df in result_dfs]\n",
    "results[\"score\"] = scores\n",
    "results[\"score\"] /= len(questions.index)\n",
    "results[\"score\"] *= 100\n",
    "results.head()\n",
    "results = results.sort_values([\"open\",\"zh-tw\",\"score\"],ascending=[False ,False, True])"
   ]
  },
  {
   "cell_type": "code",
   "execution_count": 5,
   "metadata": {},
   "outputs": [
    {
     "name": "stderr",
     "output_type": "stream",
     "text": [
      "/tmp/ipykernel_34478/3837357255.py:2: MatplotlibDeprecationWarning: The get_cmap function was deprecated in Matplotlib 3.7 and will be removed two minor releases later. Use ``matplotlib.colormaps[name]`` or ``matplotlib.colormaps.get_cmap(obj)`` instead.\n",
      "  cm = plt.cm.get_cmap('tab20c')\n"
     ]
    },
    {
     "data": {
      "text/plain": [
       "<matplotlib.legend.Legend at 0x746e411e0af0>"
      ]
     },
     "execution_count": 5,
     "metadata": {},
     "output_type": "execute_result"
    },
    {
     "data": {
      "image/png": "[encoded data removed]",
      "text/plain": [
       "<Figure size 1400x600 with 1 Axes>"
      ]
     },
     "metadata": {},
     "output_type": "display_data"
    }
   ],
   "source": [
    "results.plot.bar(x='short_name', y='score', rot=0 , title=f\"Performance on {test_name}\" , xlabel=\"model\",figsize=(14,6))\n",
    "cm = plt.cm.get_cmap('tab20c')\n",
    "plt.axhline(y=62.63,linewidth=1,ls=\"--\" ,color=cm.colors[0], label=\"12th\")\n",
    "plt.axhline(y=57.41,linewidth=1,ls=\"--\" ,color=cm.colors[1],label=\"25th\")\n",
    "plt.axhline(y=52.19,linewidth=1,ls=\"--\" ,color=cm.colors[2], label=\"50th\")\n",
    "plt.axhline(y=41.75,linewidth=1,ls=\"--\" ,color=cm.colors[3], label=\"75th\")\n",
    "plt.axhline(y=36.54,linewidth=1,ls=\"--\" ,color=cm.colors[4], label=\"88th\")\n",
    "plt.legend()"
   ]
  }
 ],
 "metadata": {
  "kernelspec": {
   "display_name": "base",
   "language": "python",
   "name": "python3"
  },
  "language_info": {
   "codemirror_mode": {
    "name": "ipython",
    "version": 3
   },
   "file_extension": ".py",
   "mimetype": "text/x-python",
   "name": "python",
   "nbconvert_exporter": "python",
   "pygments_lexer": "ipython3",
   "version": "3.10.12"
  }
 },
 "nbformat": 4,
 "nbformat_minor": 2
}
