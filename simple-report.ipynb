{
 "cells": [
  {
   "cell_type": "markdown",
   "metadata": {},
   "source": [
    "# This notebook showcase the experiment result of the whole project\n",
    "Nationional Taiwan University - An-Che Liang"
   ]
  },
  {
   "cell_type": "markdown",
   "metadata": {},
   "source": [
    "## Testing on GSAT Chinese Exam\n",
    "![](./plot/113-ch.png)\n",
    "![](./plot/112-ch.png)\n",
    "![](./plot/111-ch.png)\n",
    "![](./plot/110-ch.png)\n",
    "![](./plot/109-ch.png)"
   ]
  },
  {
   "cell_type": "markdown",
   "metadata": {},
   "source": [
    "## Testing on GSAT Natural Science Exam\n",
    "![](./plot/113-ns.png)\n",
    "![](./plot/112-ns.png)\n",
    "![](./plot/111-ns.png)"
   ]
  }
 ],
 "metadata": {
  "kernelspec": {
   "display_name": "base",
   "language": "python",
   "name": "python3"
  },
  "language_info": {
   "name": "python",
   "version": "3.10.14"
  }
 },
 "nbformat": 4,
 "nbformat_minor": 2
}
